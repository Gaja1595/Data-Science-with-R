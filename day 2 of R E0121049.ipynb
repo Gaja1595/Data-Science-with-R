{
 "cells": [
  {
   "cell_type": "code",
   "execution_count": 5,
   "id": "15f8da08",
   "metadata": {},
   "outputs": [
    {
     "data": {
      "text/html": [
       "<ol class=list-inline>\n",
       "\t<li>10</li>\n",
       "\t<li>20</li>\n",
       "\t<li>30</li>\n",
       "\t<li>40</li>\n",
       "\t<li>50</li>\n",
       "\t<li>60</li>\n",
       "</ol>\n"
      ],
      "text/latex": [
       "\\begin{enumerate*}\n",
       "\\item 10\n",
       "\\item 20\n",
       "\\item 30\n",
       "\\item 40\n",
       "\\item 50\n",
       "\\item 60\n",
       "\\end{enumerate*}\n"
      ],
      "text/markdown": [
       "1. 10\n",
       "2. 20\n",
       "3. 30\n",
       "4. 40\n",
       "5. 50\n",
       "6. 60\n",
       "\n",
       "\n"
      ],
      "text/plain": [
       "[1] 10 20 30 40 50 60"
      ]
     },
     "metadata": {},
     "output_type": "display_data"
    }
   ],
   "source": [
    "f=c(10,20,30,40,50,60)\n",
    "f"
   ]
  },
  {
   "cell_type": "code",
   "execution_count": 3,
   "id": "a0bed6c6",
   "metadata": {},
   "outputs": [
    {
     "data": {
      "text/html": [
       "<ol class=list-inline>\n",
       "\t<li>100</li>\n",
       "\t<li>20</li>\n",
       "\t<li>300</li>\n",
       "\t<li>40</li>\n",
       "\t<li>50</li>\n",
       "\t<li>60</li>\n",
       "</ol>\n"
      ],
      "text/latex": [
       "\\begin{enumerate*}\n",
       "\\item 100\n",
       "\\item 20\n",
       "\\item 300\n",
       "\\item 40\n",
       "\\item 50\n",
       "\\item 60\n",
       "\\end{enumerate*}\n"
      ],
      "text/markdown": [
       "1. 100\n",
       "2. 20\n",
       "3. 300\n",
       "4. 40\n",
       "5. 50\n",
       "6. 60\n",
       "\n",
       "\n"
      ],
      "text/plain": [
       "[1] 100  20 300  40  50  60"
      ]
     },
     "metadata": {},
     "output_type": "display_data"
    }
   ],
   "source": [
    "f[c(1,3)]=c(100,300)\n",
    "f"
   ]
  },
  {
   "cell_type": "code",
   "execution_count": 6,
   "id": "ff3bbeab",
   "metadata": {},
   "outputs": [
    {
     "data": {
      "text/html": [
       "<ol class=list-inline>\n",
       "\t<li>10</li>\n",
       "\t<li>20</li>\n",
       "\t<li>30</li>\n",
       "\t<li>40</li>\n",
       "\t<li>50</li>\n",
       "\t<li>60</li>\n",
       "</ol>\n"
      ],
      "text/latex": [
       "\\begin{enumerate*}\n",
       "\\item 10\n",
       "\\item 20\n",
       "\\item 30\n",
       "\\item 40\n",
       "\\item 50\n",
       "\\item 60\n",
       "\\end{enumerate*}\n"
      ],
      "text/markdown": [
       "1. 10\n",
       "2. 20\n",
       "3. 30\n",
       "4. 40\n",
       "5. 50\n",
       "6. 60\n",
       "\n",
       "\n"
      ],
      "text/plain": [
       "[1] 10 20 30 40 50 60"
      ]
     },
     "metadata": {},
     "output_type": "display_data"
    },
    {
     "data": {
      "text/html": [
       "<ol class=list-inline>\n",
       "\t<li>60</li>\n",
       "\t<li>50</li>\n",
       "\t<li>40</li>\n",
       "\t<li>30</li>\n",
       "\t<li>20</li>\n",
       "\t<li>10</li>\n",
       "</ol>\n"
      ],
      "text/latex": [
       "\\begin{enumerate*}\n",
       "\\item 60\n",
       "\\item 50\n",
       "\\item 40\n",
       "\\item 30\n",
       "\\item 20\n",
       "\\item 10\n",
       "\\end{enumerate*}\n"
      ],
      "text/markdown": [
       "1. 60\n",
       "2. 50\n",
       "3. 40\n",
       "4. 30\n",
       "5. 20\n",
       "6. 10\n",
       "\n",
       "\n"
      ],
      "text/plain": [
       "[1] 60 50 40 30 20 10"
      ]
     },
     "metadata": {},
     "output_type": "display_data"
    },
    {
     "data": {
      "text/html": [
       "<ol class=list-inline>\n",
       "\t<li>10</li>\n",
       "\t<li>20</li>\n",
       "\t<li>30</li>\n",
       "\t<li>40</li>\n",
       "\t<li>50</li>\n",
       "\t<li>60</li>\n",
       "</ol>\n"
      ],
      "text/latex": [
       "\\begin{enumerate*}\n",
       "\\item 10\n",
       "\\item 20\n",
       "\\item 30\n",
       "\\item 40\n",
       "\\item 50\n",
       "\\item 60\n",
       "\\end{enumerate*}\n"
      ],
      "text/markdown": [
       "1. 10\n",
       "2. 20\n",
       "3. 30\n",
       "4. 40\n",
       "5. 50\n",
       "6. 60\n",
       "\n",
       "\n"
      ],
      "text/plain": [
       "[1] 10 20 30 40 50 60"
      ]
     },
     "metadata": {},
     "output_type": "display_data"
    }
   ],
   "source": [
    "sort(f)\n",
    "sort(f,TRUE) #descndin\n",
    "sort(f,FALSE) #ascendin"
   ]
  },
  {
   "cell_type": "code",
   "execution_count": 7,
   "id": "76369d7c",
   "metadata": {},
   "outputs": [
    {
     "data": {
      "text/html": [
       "<ol class=list-inline>\n",
       "\t<li>1</li>\n",
       "\t<li>2</li>\n",
       "\t<li>3</li>\n",
       "\t<li>4</li>\n",
       "\t<li>5</li>\n",
       "\t<li>6</li>\n",
       "\t<li>7</li>\n",
       "\t<li>8</li>\n",
       "\t<li>9</li>\n",
       "\t<li>10</li>\n",
       "\t<li>11</li>\n",
       "\t<li>12</li>\n",
       "\t<li>13</li>\n",
       "\t<li>14</li>\n",
       "\t<li>15</li>\n",
       "\t<li>16</li>\n",
       "\t<li>17</li>\n",
       "\t<li>18</li>\n",
       "\t<li>19</li>\n",
       "\t<li>20</li>\n",
       "\t<li>21</li>\n",
       "\t<li>22</li>\n",
       "\t<li>23</li>\n",
       "\t<li>24</li>\n",
       "\t<li>25</li>\n",
       "\t<li>26</li>\n",
       "\t<li>27</li>\n",
       "\t<li>28</li>\n",
       "\t<li>29</li>\n",
       "\t<li>30</li>\n",
       "\t<li>31</li>\n",
       "\t<li>32</li>\n",
       "\t<li>33</li>\n",
       "\t<li>34</li>\n",
       "\t<li>35</li>\n",
       "\t<li>36</li>\n",
       "\t<li>37</li>\n",
       "\t<li>38</li>\n",
       "\t<li>39</li>\n",
       "\t<li>40</li>\n",
       "</ol>\n"
      ],
      "text/latex": [
       "\\begin{enumerate*}\n",
       "\\item 1\n",
       "\\item 2\n",
       "\\item 3\n",
       "\\item 4\n",
       "\\item 5\n",
       "\\item 6\n",
       "\\item 7\n",
       "\\item 8\n",
       "\\item 9\n",
       "\\item 10\n",
       "\\item 11\n",
       "\\item 12\n",
       "\\item 13\n",
       "\\item 14\n",
       "\\item 15\n",
       "\\item 16\n",
       "\\item 17\n",
       "\\item 18\n",
       "\\item 19\n",
       "\\item 20\n",
       "\\item 21\n",
       "\\item 22\n",
       "\\item 23\n",
       "\\item 24\n",
       "\\item 25\n",
       "\\item 26\n",
       "\\item 27\n",
       "\\item 28\n",
       "\\item 29\n",
       "\\item 30\n",
       "\\item 31\n",
       "\\item 32\n",
       "\\item 33\n",
       "\\item 34\n",
       "\\item 35\n",
       "\\item 36\n",
       "\\item 37\n",
       "\\item 38\n",
       "\\item 39\n",
       "\\item 40\n",
       "\\end{enumerate*}\n"
      ],
      "text/markdown": [
       "1. 1\n",
       "2. 2\n",
       "3. 3\n",
       "4. 4\n",
       "5. 5\n",
       "6. 6\n",
       "7. 7\n",
       "8. 8\n",
       "9. 9\n",
       "10. 10\n",
       "11. 11\n",
       "12. 12\n",
       "13. 13\n",
       "14. 14\n",
       "15. 15\n",
       "16. 16\n",
       "17. 17\n",
       "18. 18\n",
       "19. 19\n",
       "20. 20\n",
       "21. 21\n",
       "22. 22\n",
       "23. 23\n",
       "24. 24\n",
       "25. 25\n",
       "26. 26\n",
       "27. 27\n",
       "28. 28\n",
       "29. 29\n",
       "30. 30\n",
       "31. 31\n",
       "32. 32\n",
       "33. 33\n",
       "34. 34\n",
       "35. 35\n",
       "36. 36\n",
       "37. 37\n",
       "38. 38\n",
       "39. 39\n",
       "40. 40\n",
       "\n",
       "\n"
      ],
      "text/plain": [
       " [1]  1  2  3  4  5  6  7  8  9 10 11 12 13 14 15 16 17 18 19 20 21 22 23 24 25\n",
       "[26] 26 27 28 29 30 31 32 33 34 35 36 37 38 39 40"
      ]
     },
     "metadata": {},
     "output_type": "display_data"
    }
   ],
   "source": [
    "l=c(1:40)\n",
    "l"
   ]
  },
  {
   "cell_type": "code",
   "execution_count": 8,
   "id": "0b089568",
   "metadata": {},
   "outputs": [
    {
     "data": {
      "text/html": [
       "<ol class=list-inline>\n",
       "\t<li>10</li>\n",
       "\t<li>13</li>\n",
       "\t<li>16</li>\n",
       "\t<li>19</li>\n",
       "\t<li>22</li>\n",
       "\t<li>25</li>\n",
       "\t<li>28</li>\n",
       "\t<li>31</li>\n",
       "\t<li>34</li>\n",
       "\t<li>37</li>\n",
       "\t<li>40</li>\n",
       "\t<li>43</li>\n",
       "\t<li>46</li>\n",
       "\t<li>49</li>\n",
       "</ol>\n"
      ],
      "text/latex": [
       "\\begin{enumerate*}\n",
       "\\item 10\n",
       "\\item 13\n",
       "\\item 16\n",
       "\\item 19\n",
       "\\item 22\n",
       "\\item 25\n",
       "\\item 28\n",
       "\\item 31\n",
       "\\item 34\n",
       "\\item 37\n",
       "\\item 40\n",
       "\\item 43\n",
       "\\item 46\n",
       "\\item 49\n",
       "\\end{enumerate*}\n"
      ],
      "text/markdown": [
       "1. 10\n",
       "2. 13\n",
       "3. 16\n",
       "4. 19\n",
       "5. 22\n",
       "6. 25\n",
       "7. 28\n",
       "8. 31\n",
       "9. 34\n",
       "10. 37\n",
       "11. 40\n",
       "12. 43\n",
       "13. 46\n",
       "14. 49\n",
       "\n",
       "\n"
      ],
      "text/plain": [
       " [1] 10 13 16 19 22 25 28 31 34 37 40 43 46 49"
      ]
     },
     "metadata": {},
     "output_type": "display_data"
    }
   ],
   "source": [
    "seq(from=10,to=50,by=3)#start stop by-> n-1 jumps (if by is 3 it jumps 2 numbers(misses 2 numbers))"
   ]
  },
  {
   "cell_type": "code",
   "execution_count": 9,
   "id": "05ce09b4",
   "metadata": {},
   "outputs": [
    {
     "data": {
      "text/html": [
       "<ol class=list-inline>\n",
       "\t<li>1</li>\n",
       "\t<li>5.5</li>\n",
       "\t<li>10</li>\n",
       "</ol>\n"
      ],
      "text/latex": [
       "\\begin{enumerate*}\n",
       "\\item 1\n",
       "\\item 5.5\n",
       "\\item 10\n",
       "\\end{enumerate*}\n"
      ],
      "text/markdown": [
       "1. 1\n",
       "2. 5.5\n",
       "3. 10\n",
       "\n",
       "\n"
      ],
      "text/plain": [
       "[1]  1.0  5.5 10.0"
      ]
     },
     "metadata": {},
     "output_type": "display_data"
    }
   ],
   "source": [
    "seq(from=1,to=10,length.out=3) # length.out is value range "
   ]
  },
  {
   "cell_type": "code",
   "execution_count": 10,
   "id": "21b5159d",
   "metadata": {},
   "outputs": [
    {
     "data": {
      "text/html": [
       "<ol class=list-inline>\n",
       "\t<li>1</li>\n",
       "\t<li>1.5</li>\n",
       "\t<li>2</li>\n",
       "\t<li>2.5</li>\n",
       "\t<li>3</li>\n",
       "\t<li>3.5</li>\n",
       "\t<li>4</li>\n",
       "\t<li>4.5</li>\n",
       "\t<li>5</li>\n",
       "\t<li>5.5</li>\n",
       "\t<li>6</li>\n",
       "\t<li>6.5</li>\n",
       "\t<li>7</li>\n",
       "\t<li>7.5</li>\n",
       "\t<li>8</li>\n",
       "\t<li>8.5</li>\n",
       "\t<li>9</li>\n",
       "\t<li>9.5</li>\n",
       "\t<li>10</li>\n",
       "</ol>\n"
      ],
      "text/latex": [
       "\\begin{enumerate*}\n",
       "\\item 1\n",
       "\\item 1.5\n",
       "\\item 2\n",
       "\\item 2.5\n",
       "\\item 3\n",
       "\\item 3.5\n",
       "\\item 4\n",
       "\\item 4.5\n",
       "\\item 5\n",
       "\\item 5.5\n",
       "\\item 6\n",
       "\\item 6.5\n",
       "\\item 7\n",
       "\\item 7.5\n",
       "\\item 8\n",
       "\\item 8.5\n",
       "\\item 9\n",
       "\\item 9.5\n",
       "\\item 10\n",
       "\\end{enumerate*}\n"
      ],
      "text/markdown": [
       "1. 1\n",
       "2. 1.5\n",
       "3. 2\n",
       "4. 2.5\n",
       "5. 3\n",
       "6. 3.5\n",
       "7. 4\n",
       "8. 4.5\n",
       "9. 5\n",
       "10. 5.5\n",
       "11. 6\n",
       "12. 6.5\n",
       "13. 7\n",
       "14. 7.5\n",
       "15. 8\n",
       "16. 8.5\n",
       "17. 9\n",
       "18. 9.5\n",
       "19. 10\n",
       "\n",
       "\n"
      ],
      "text/plain": [
       " [1]  1.0  1.5  2.0  2.5  3.0  3.5  4.0  4.5  5.0  5.5  6.0  6.5  7.0  7.5  8.0\n",
       "[16]  8.5  9.0  9.5 10.0"
      ]
     },
     "metadata": {},
     "output_type": "display_data"
    }
   ],
   "source": [
    "seq(from=1,to=10,length.out=19) # length.out is value range "
   ]
  },
  {
   "cell_type": "code",
   "execution_count": 11,
   "id": "f019d442",
   "metadata": {},
   "outputs": [
    {
     "data": {
      "text/html": [
       "<ol class=list-inline>\n",
       "\t<li>3</li>\n",
       "\t<li>3</li>\n",
       "\t<li>4</li>\n",
       "\t<li>5</li>\n",
       "\t<li>6</li>\n",
       "\t<li>8</li>\n",
       "\t<li>5</li>\n",
       "\t<li>4</li>\n",
       "\t<li>3</li>\n",
       "</ol>\n"
      ],
      "text/latex": [
       "\\begin{enumerate*}\n",
       "\\item 3\n",
       "\\item 3\n",
       "\\item 4\n",
       "\\item 5\n",
       "\\item 6\n",
       "\\item 8\n",
       "\\item 5\n",
       "\\item 4\n",
       "\\item 3\n",
       "\\end{enumerate*}\n"
      ],
      "text/markdown": [
       "1. 3\n",
       "2. 3\n",
       "3. 4\n",
       "4. 5\n",
       "5. 6\n",
       "6. 8\n",
       "7. 5\n",
       "8. 4\n",
       "9. 3\n",
       "\n",
       "\n"
      ],
      "text/plain": [
       "[1] 3 3 4 5 6 8 5 4 3"
      ]
     },
     "metadata": {},
     "output_type": "display_data"
    }
   ],
   "source": [
    "mark=c(3,3,4,5,6,8,5,4,3)\n",
    "mark"
   ]
  },
  {
   "cell_type": "code",
   "execution_count": 16,
   "id": "690061cf",
   "metadata": {},
   "outputs": [
    {
     "data": {
      "text/html": [
       "41"
      ],
      "text/latex": [
       "41"
      ],
      "text/markdown": [
       "41"
      ],
      "text/plain": [
       "[1] 41"
      ]
     },
     "metadata": {},
     "output_type": "display_data"
    },
    {
     "data": {
      "text/html": [
       "<ol class=list-inline>\n",
       "\t<li>3</li>\n",
       "\t<li>4</li>\n",
       "\t<li>5</li>\n",
       "\t<li>6</li>\n",
       "\t<li>8</li>\n",
       "</ol>\n"
      ],
      "text/latex": [
       "\\begin{enumerate*}\n",
       "\\item 3\n",
       "\\item 4\n",
       "\\item 5\n",
       "\\item 6\n",
       "\\item 8\n",
       "\\end{enumerate*}\n"
      ],
      "text/markdown": [
       "1. 3\n",
       "2. 4\n",
       "3. 5\n",
       "4. 6\n",
       "5. 8\n",
       "\n",
       "\n"
      ],
      "text/plain": [
       "[1] 3 4 5 6 8"
      ]
     },
     "metadata": {},
     "output_type": "display_data"
    },
    {
     "data": {
      "text/html": [
       "3"
      ],
      "text/latex": [
       "3"
      ],
      "text/markdown": [
       "3"
      ],
      "text/plain": [
       "[1] 3"
      ]
     },
     "metadata": {},
     "output_type": "display_data"
    }
   ],
   "source": [
    "sum(mark)\n",
    "unique(mark)  #unique marks \n",
    "sum(mark==3) #no of times 3 is repeated"
   ]
  },
  {
   "cell_type": "code",
   "execution_count": 13,
   "id": "56de351c",
   "metadata": {},
   "outputs": [
    {
     "data": {
      "text/html": [
       "<ol class=list-inline>\n",
       "\t<li>'java'</li>\n",
       "\t<li>'python'</li>\n",
       "\t<li>'data'</li>\n",
       "\t<li>'python'</li>\n",
       "</ol>\n"
      ],
      "text/latex": [
       "\\begin{enumerate*}\n",
       "\\item 'java'\n",
       "\\item 'python'\n",
       "\\item 'data'\n",
       "\\item 'python'\n",
       "\\end{enumerate*}\n"
      ],
      "text/markdown": [
       "1. 'java'\n",
       "2. 'python'\n",
       "3. 'data'\n",
       "4. 'python'\n",
       "\n",
       "\n"
      ],
      "text/plain": [
       "[1] \"java\"   \"python\" \"data\"   \"python\""
      ]
     },
     "metadata": {},
     "output_type": "display_data"
    }
   ],
   "source": [
    "lang=c(\"java\",\"python\",\"data\",\"python\")\n",
    "lang"
   ]
  },
  {
   "cell_type": "code",
   "execution_count": 14,
   "id": "f9b8b35e",
   "metadata": {},
   "outputs": [
    {
     "name": "stdout",
     "output_type": "stream",
     "text": [
      "count of which lang?python\n"
     ]
    },
    {
     "data": {
      "text/html": [
       "2"
      ],
      "text/latex": [
       "2"
      ],
      "text/markdown": [
       "2"
      ],
      "text/plain": [
       "[1] 2"
      ]
     },
     "metadata": {},
     "output_type": "display_data"
    }
   ],
   "source": [
    "a=readline(\"count of which lang?\")\n",
    "sum(lang==a)"
   ]
  },
  {
   "cell_type": "code",
   "execution_count": 15,
   "id": "bfd13279",
   "metadata": {},
   "outputs": [
    {
     "data": {
      "text/html": [
       "'character'"
      ],
      "text/latex": [
       "'character'"
      ],
      "text/markdown": [
       "'character'"
      ],
      "text/plain": [
       "[1] \"character\""
      ]
     },
     "metadata": {},
     "output_type": "display_data"
    }
   ],
   "source": [
    "class(a)"
   ]
  },
  {
   "cell_type": "code",
   "execution_count": 1,
   "id": "b26fd573",
   "metadata": {},
   "outputs": [
    {
     "data": {
      "text/html": [
       "<ol class=list-inline>\n",
       "\t<li>10</li>\n",
       "\t<li>20</li>\n",
       "\t<li>30</li>\n",
       "\t<li>40</li>\n",
       "\t<li>50</li>\n",
       "\t<li>60</li>\n",
       "\t<li>70</li>\n",
       "</ol>\n"
      ],
      "text/latex": [
       "\\begin{enumerate*}\n",
       "\\item 10\n",
       "\\item 20\n",
       "\\item 30\n",
       "\\item 40\n",
       "\\item 50\n",
       "\\item 60\n",
       "\\item 70\n",
       "\\end{enumerate*}\n"
      ],
      "text/markdown": [
       "1. 10\n",
       "2. 20\n",
       "3. 30\n",
       "4. 40\n",
       "5. 50\n",
       "6. 60\n",
       "7. 70\n",
       "\n",
       "\n"
      ],
      "text/plain": [
       "[1] 10 20 30 40 50 60 70"
      ]
     },
     "metadata": {},
     "output_type": "display_data"
    },
    {
     "data": {
      "text/html": [
       "<ol class=list-inline>\n",
       "\t<li>11</li>\n",
       "\t<li>20</li>\n",
       "\t<li>30</li>\n",
       "\t<li>41</li>\n",
       "\t<li>55</li>\n",
       "\t<li>60</li>\n",
       "\t<li>70</li>\n",
       "</ol>\n"
      ],
      "text/latex": [
       "\\begin{enumerate*}\n",
       "\\item 11\n",
       "\\item 20\n",
       "\\item 30\n",
       "\\item 41\n",
       "\\item 55\n",
       "\\item 60\n",
       "\\item 70\n",
       "\\end{enumerate*}\n"
      ],
      "text/markdown": [
       "1. 11\n",
       "2. 20\n",
       "3. 30\n",
       "4. 41\n",
       "5. 55\n",
       "6. 60\n",
       "7. 70\n",
       "\n",
       "\n"
      ],
      "text/plain": [
       "[1] 11 20 30 41 55 60 70"
      ]
     },
     "metadata": {},
     "output_type": "display_data"
    }
   ],
   "source": [
    "AIML=c(10,20,30,40,50,60,70)\n",
    "CYB=c(11,20,30,41,55,60,70)\n",
    "AIML\n",
    "CYB"
   ]
  },
  {
   "cell_type": "code",
   "execution_count": 4,
   "id": "7e26abd2",
   "metadata": {},
   "outputs": [
    {
     "data": {
      "text/html": [
       "<ol class=list-inline>\n",
       "\t<li>11</li>\n",
       "\t<li>41</li>\n",
       "\t<li>55</li>\n",
       "</ol>\n"
      ],
      "text/latex": [
       "\\begin{enumerate*}\n",
       "\\item 11\n",
       "\\item 41\n",
       "\\item 55\n",
       "\\end{enumerate*}\n"
      ],
      "text/markdown": [
       "1. 11\n",
       "2. 41\n",
       "3. 55\n",
       "\n",
       "\n"
      ],
      "text/plain": [
       "[1] 11 41 55"
      ]
     },
     "metadata": {},
     "output_type": "display_data"
    },
    {
     "data": {
      "text/html": [
       "<ol class=list-inline>\n",
       "\t<li>10</li>\n",
       "\t<li>40</li>\n",
       "\t<li>50</li>\n",
       "</ol>\n"
      ],
      "text/latex": [
       "\\begin{enumerate*}\n",
       "\\item 10\n",
       "\\item 40\n",
       "\\item 50\n",
       "\\end{enumerate*}\n"
      ],
      "text/markdown": [
       "1. 10\n",
       "2. 40\n",
       "3. 50\n",
       "\n",
       "\n"
      ],
      "text/plain": [
       "[1] 10 40 50"
      ]
     },
     "metadata": {},
     "output_type": "display_data"
    },
    {
     "data": {
      "text/html": [
       "<ol class=list-inline>\n",
       "\t<li>11</li>\n",
       "\t<li>20</li>\n",
       "\t<li>30</li>\n",
       "\t<li>41</li>\n",
       "\t<li>55</li>\n",
       "\t<li>60</li>\n",
       "\t<li>70</li>\n",
       "\t<li>10</li>\n",
       "\t<li>40</li>\n",
       "\t<li>50</li>\n",
       "</ol>\n"
      ],
      "text/latex": [
       "\\begin{enumerate*}\n",
       "\\item 11\n",
       "\\item 20\n",
       "\\item 30\n",
       "\\item 41\n",
       "\\item 55\n",
       "\\item 60\n",
       "\\item 70\n",
       "\\item 10\n",
       "\\item 40\n",
       "\\item 50\n",
       "\\end{enumerate*}\n"
      ],
      "text/markdown": [
       "1. 11\n",
       "2. 20\n",
       "3. 30\n",
       "4. 41\n",
       "5. 55\n",
       "6. 60\n",
       "7. 70\n",
       "8. 10\n",
       "9. 40\n",
       "10. 50\n",
       "\n",
       "\n"
      ],
      "text/plain": [
       " [1] 11 20 30 41 55 60 70 10 40 50"
      ]
     },
     "metadata": {},
     "output_type": "display_data"
    }
   ],
   "source": [
    "setdiff(CYB,AIML)\n",
    "setdiff(AIML,CYB)\n",
    "union(CYB,AIML)\n",
    "\n"
   ]
  },
  {
   "cell_type": "code",
   "execution_count": 37,
   "id": "7a26cd4f",
   "metadata": {},
   "outputs": [
    {
     "name": "stdout",
     "output_type": "stream",
     "text": [
      "how many hi's??3\n",
      "[1] \"hi\"\n",
      "[1] \"hi\"\n",
      "[1] \"hi\"\n"
     ]
    }
   ],
   "source": [
    "element=c()\n",
    "total=as.integer(readline(\"how many hi's??\"))\n",
    "for(i in seq(total))\n",
    "    {print(\"hi\")}"
   ]
  },
  {
   "cell_type": "code",
   "execution_count": 40,
   "id": "d04ee80d",
   "metadata": {},
   "outputs": [
    {
     "name": "stdout",
     "output_type": "stream",
     "text": [
      "how many values??2\n",
      "elemnt value of 1 :1\n",
      "elemnt value of 2 :2\n"
     ]
    },
    {
     "data": {
      "text/html": [
       "<ol class=list-inline>\n",
       "\t<li>1</li>\n",
       "\t<li>2</li>\n",
       "</ol>\n"
      ],
      "text/latex": [
       "\\begin{enumerate*}\n",
       "\\item 1\n",
       "\\item 2\n",
       "\\end{enumerate*}\n"
      ],
      "text/markdown": [
       "1. 1\n",
       "2. 2\n",
       "\n",
       "\n"
      ],
      "text/plain": [
       "[1] 1 2"
      ]
     },
     "metadata": {},
     "output_type": "display_data"
    }
   ],
   "source": [
    "element=c()\n",
    "total=as.integer(readline(\"how many values??\"))   #input for no of values in element\n",
    "for(i in seq(total))\n",
    "    {element[i]=as.numeric(readline(paste(\"elemnt value of\",i,\":\")))} #value of the particular element[i] in ur vector \n",
    "element"
   ]
  },
  {
   "cell_type": "code",
   "execution_count": 43,
   "id": "47574a75",
   "metadata": {},
   "outputs": [
    {
     "data": {
      "text/html": [
       "<ol class=list-inline>\n",
       "\t<li>1</li>\n",
       "\t<li>2</li>\n",
       "</ol>\n"
      ],
      "text/latex": [
       "\\begin{enumerate*}\n",
       "\\item 1\n",
       "\\item 2\n",
       "\\end{enumerate*}\n"
      ],
      "text/markdown": [
       "1. 1\n",
       "2. 2\n",
       "\n",
       "\n"
      ],
      "text/plain": [
       "[1] 1 2"
      ]
     },
     "metadata": {},
     "output_type": "display_data"
    },
    {
     "data": {
      "text/html": [
       "'numeric'"
      ],
      "text/latex": [
       "'numeric'"
      ],
      "text/markdown": [
       "'numeric'"
      ],
      "text/plain": [
       "[1] \"numeric\""
      ]
     },
     "metadata": {},
     "output_type": "display_data"
    },
    {
     "data": {
      "text/html": [
       "<ol class=list-inline>\n",
       "\t<li>1</li>\n",
       "\t<li>2</li>\n",
       "</ol>\n"
      ],
      "text/latex": [
       "\\begin{enumerate*}\n",
       "\\item 1\n",
       "\\item 2\n",
       "\\end{enumerate*}\n"
      ],
      "text/markdown": [
       "1. 1\n",
       "2. 2\n",
       "\n",
       "\n"
      ],
      "text/plain": [
       "[1] 1 2"
      ]
     },
     "metadata": {},
     "output_type": "display_data"
    },
    {
     "data": {
      "text/html": [
       "<ol class=list-inline>\n",
       "\t<li>2</li>\n",
       "\t<li>1</li>\n",
       "</ol>\n"
      ],
      "text/latex": [
       "\\begin{enumerate*}\n",
       "\\item 2\n",
       "\\item 1\n",
       "\\end{enumerate*}\n"
      ],
      "text/markdown": [
       "1. 2\n",
       "2. 1\n",
       "\n",
       "\n"
      ],
      "text/plain": [
       "[1] 2 1"
      ]
     },
     "metadata": {},
     "output_type": "display_data"
    }
   ],
   "source": [
    "element\n",
    "class(element[i])\n",
    "sort(element)\n",
    "sort(element,TRUE)"
   ]
  },
  {
   "cell_type": "code",
   "execution_count": 44,
   "id": "ee32674a",
   "metadata": {},
   "outputs": [
    {
     "data": {
      "text/html": [
       "<table>\n",
       "<tbody>\n",
       "\t<tr><td>1</td><td>3</td><td>5</td></tr>\n",
       "\t<tr><td>2</td><td>4</td><td>6</td></tr>\n",
       "</tbody>\n",
       "</table>\n"
      ],
      "text/latex": [
       "\\begin{tabular}{lll}\n",
       "\t 1 & 3 & 5\\\\\n",
       "\t 2 & 4 & 6\\\\\n",
       "\\end{tabular}\n"
      ],
      "text/markdown": [
       "\n",
       "| 1 | 3 | 5 |\n",
       "| 2 | 4 | 6 |\n",
       "\n"
      ],
      "text/plain": [
       "     [,1] [,2] [,3]\n",
       "[1,] 1    3    5   \n",
       "[2,] 2    4    6   "
      ]
     },
     "metadata": {},
     "output_type": "display_data"
    }
   ],
   "source": [
    "array(c(1,2,3,4,5,6),dim=c(2,3))"
   ]
  },
  {
   "cell_type": "code",
   "execution_count": 52,
   "id": "219f5b62",
   "metadata": {},
   "outputs": [
    {
     "data": {
      "text/html": [
       "<table>\n",
       "<tbody>\n",
       "\t<tr><td>1</td><td>3</td><td>5</td></tr>\n",
       "\t<tr><td>2</td><td>4</td><td>6</td></tr>\n",
       "</tbody>\n",
       "</table>\n"
      ],
      "text/latex": [
       "\\begin{tabular}{lll}\n",
       "\t 1 & 3 & 5\\\\\n",
       "\t 2 & 4 & 6\\\\\n",
       "\\end{tabular}\n"
      ],
      "text/markdown": [
       "\n",
       "| 1 | 3 | 5 |\n",
       "| 2 | 4 | 6 |\n",
       "\n"
      ],
      "text/plain": [
       "     [,1] [,2] [,3]\n",
       "[1,] 1    3    5   \n",
       "[2,] 2    4    6   "
      ]
     },
     "metadata": {},
     "output_type": "display_data"
    }
   ],
   "source": [
    "array(c(1,2,3,4,5,6),dim=c(2,3))"
   ]
  },
  {
   "cell_type": "code",
   "execution_count": null,
   "id": "73998ced",
   "metadata": {},
   "outputs": [],
   "source": [
    "#creat an array of 2 (3x3) matrix each w 3 rows and 3 coloumns using 2 given vector "
   ]
  },
  {
   "cell_type": "code",
   "execution_count": 53,
   "id": "fe3dc708",
   "metadata": {},
   "outputs": [
    {
     "data": {
      "text/html": [
       "<table>\n",
       "<tbody>\n",
       "\t<tr><td>1 </td><td> 5</td><td>12</td></tr>\n",
       "\t<tr><td>3 </td><td>10</td><td>13</td></tr>\n",
       "\t<tr><td>4 </td><td>11</td><td>14</td></tr>\n",
       "</tbody>\n",
       "</table>\n"
      ],
      "text/latex": [
       "\\begin{tabular}{lll}\n",
       "\t 1  &  5 & 12\\\\\n",
       "\t 3  & 10 & 13\\\\\n",
       "\t 4  & 11 & 14\\\\\n",
       "\\end{tabular}\n"
      ],
      "text/markdown": [
       "\n",
       "| 1  |  5 | 12 |\n",
       "| 3  | 10 | 13 |\n",
       "| 4  | 11 | 14 |\n",
       "\n"
      ],
      "text/plain": [
       "     [,1] [,2] [,3]\n",
       "[1,] 1     5   12  \n",
       "[2,] 3    10   13  \n",
       "[3,] 4    11   14  "
      ]
     },
     "metadata": {},
     "output_type": "display_data"
    }
   ],
   "source": [
    "v1=c(1,3,4,5)\n",
    "v2=c(10,11,12,13,14,14)\n",
    "\n",
    "array(c(v1,v2),dim=c(3,3))"
   ]
  },
  {
   "cell_type": "code",
   "execution_count": 54,
   "id": "87d065c4",
   "metadata": {},
   "outputs": [
    {
     "data": {
      "text/html": [
       "<table>\n",
       "<tbody>\n",
       "\t<tr><td>10</td><td>13</td><td>1 </td></tr>\n",
       "\t<tr><td>11</td><td>14</td><td>3 </td></tr>\n",
       "\t<tr><td>12</td><td>14</td><td>4 </td></tr>\n",
       "</tbody>\n",
       "</table>\n"
      ],
      "text/latex": [
       "\\begin{tabular}{lll}\n",
       "\t 10 & 13 & 1 \\\\\n",
       "\t 11 & 14 & 3 \\\\\n",
       "\t 12 & 14 & 4 \\\\\n",
       "\\end{tabular}\n"
      ],
      "text/markdown": [
       "\n",
       "| 10 | 13 | 1  |\n",
       "| 11 | 14 | 3  |\n",
       "| 12 | 14 | 4  |\n",
       "\n"
      ],
      "text/plain": [
       "     [,1] [,2] [,3]\n",
       "[1,] 10   13   1   \n",
       "[2,] 11   14   3   \n",
       "[3,] 12   14   4   "
      ]
     },
     "metadata": {},
     "output_type": "display_data"
    }
   ],
   "source": [
    "v1=c(1,3,4,5)\n",
    "v2=c(10,11,12,13,14,14)\n",
    "\n",
    "array(c(v2,v1),dim=c(3,3))"
   ]
  },
  {
   "cell_type": "code",
   "execution_count": 59,
   "id": "3afcbc24",
   "metadata": {},
   "outputs": [
    {
     "name": "stdout",
     "output_type": "stream",
     "text": [
      ", , 1\n",
      "\n",
      "     [,1] [,2] [,3]\n",
      "[1,]    1    5   12\n",
      "[2,]    3   10   13\n",
      "[3,]    4   11   14\n",
      "\n",
      ", , 2\n",
      "\n",
      "     [,1] [,2] [,3]\n",
      "[1,]   14    4   11\n",
      "[2,]    1    5   12\n",
      "[3,]    3   10   13\n",
      "\n"
     ]
    }
   ],
   "source": [
    "v1=c(1,3,4,5)\n",
    "v2=c(10,11,12,13,14,14)\n",
    "\n",
    "a=array(c(v1,v2),dim=c(3,3,2))\n",
    "print(a)"
   ]
  },
  {
   "cell_type": "code",
   "execution_count": 58,
   "id": "57a363b6",
   "metadata": {},
   "outputs": [],
   "source": [
    "#print 2nd row of the 2nd matrix of an array"
   ]
  },
  {
   "cell_type": "code",
   "execution_count": 62,
   "id": "6cd15f68",
   "metadata": {},
   "outputs": [
    {
     "data": {
      "text/html": [
       "<ol class=list-inline>\n",
       "\t<li>1</li>\n",
       "\t<li>5</li>\n",
       "\t<li>12</li>\n",
       "</ol>\n"
      ],
      "text/latex": [
       "\\begin{enumerate*}\n",
       "\\item 1\n",
       "\\item 5\n",
       "\\item 12\n",
       "\\end{enumerate*}\n"
      ],
      "text/markdown": [
       "1. 1\n",
       "2. 5\n",
       "3. 12\n",
       "\n",
       "\n"
      ],
      "text/plain": [
       "[1]  1  5 12"
      ]
     },
     "metadata": {},
     "output_type": "display_data"
    }
   ],
   "source": [
    "a[2,,2]  #row,col,matrix"
   ]
  },
  {
   "cell_type": "code",
   "execution_count": 65,
   "id": "064a3d39",
   "metadata": {},
   "outputs": [
    {
     "data": {
      "text/html": [
       "14"
      ],
      "text/latex": [
       "14"
      ],
      "text/markdown": [
       "14"
      ],
      "text/plain": [
       "[1] 14"
      ]
     },
     "metadata": {},
     "output_type": "display_data"
    }
   ],
   "source": [
    "a[3,3,1]"
   ]
  },
  {
   "cell_type": "code",
   "execution_count": 66,
   "id": "f3ff54d9",
   "metadata": {},
   "outputs": [],
   "source": [
    "#write R prg to create 2d 5x3 array of seq of even integers> 50"
   ]
  },
  {
   "cell_type": "code",
   "execution_count": 68,
   "id": "33177423",
   "metadata": {},
   "outputs": [
    {
     "data": {
      "text/html": [
       "<table>\n",
       "<tbody>\n",
       "\t<tr><td>52</td><td>62</td><td>72</td></tr>\n",
       "\t<tr><td>54</td><td>64</td><td>74</td></tr>\n",
       "\t<tr><td>56</td><td>66</td><td>76</td></tr>\n",
       "\t<tr><td>58</td><td>68</td><td>78</td></tr>\n",
       "\t<tr><td>60</td><td>70</td><td>80</td></tr>\n",
       "</tbody>\n",
       "</table>\n"
      ],
      "text/latex": [
       "\\begin{tabular}{lll}\n",
       "\t 52 & 62 & 72\\\\\n",
       "\t 54 & 64 & 74\\\\\n",
       "\t 56 & 66 & 76\\\\\n",
       "\t 58 & 68 & 78\\\\\n",
       "\t 60 & 70 & 80\\\\\n",
       "\\end{tabular}\n"
      ],
      "text/markdown": [
       "\n",
       "| 52 | 62 | 72 |\n",
       "| 54 | 64 | 74 |\n",
       "| 56 | 66 | 76 |\n",
       "| 58 | 68 | 78 |\n",
       "| 60 | 70 | 80 |\n",
       "\n"
      ],
      "text/plain": [
       "     [,1] [,2] [,3]\n",
       "[1,] 52   62   72  \n",
       "[2,] 54   64   74  \n",
       "[3,] 56   66   76  \n",
       "[4,] 58   68   78  \n",
       "[5,] 60   70   80  "
      ]
     },
     "metadata": {},
     "output_type": "display_data"
    }
   ],
   "source": [
    "array(seq(from=52,length.out=15,by=2), dim=c(5,3))"
   ]
  },
  {
   "cell_type": "code",
   "execution_count": 69,
   "id": "b7ee20aa",
   "metadata": {},
   "outputs": [
    {
     "data": {
      "text/html": [
       "<table>\n",
       "<tbody>\n",
       "\t<tr><td>1 </td><td>5 </td><td> 9</td><td>13</td></tr>\n",
       "\t<tr><td>2 </td><td>6 </td><td>10</td><td>14</td></tr>\n",
       "\t<tr><td>3 </td><td>7 </td><td>11</td><td>15</td></tr>\n",
       "\t<tr><td>4 </td><td>8 </td><td>12</td><td>16</td></tr>\n",
       "</tbody>\n",
       "</table>\n"
      ],
      "text/latex": [
       "\\begin{tabular}{llll}\n",
       "\t 1  & 5  &  9 & 13\\\\\n",
       "\t 2  & 6  & 10 & 14\\\\\n",
       "\t 3  & 7  & 11 & 15\\\\\n",
       "\t 4  & 8  & 12 & 16\\\\\n",
       "\\end{tabular}\n"
      ],
      "text/markdown": [
       "\n",
       "| 1  | 5  |  9 | 13 |\n",
       "| 2  | 6  | 10 | 14 |\n",
       "| 3  | 7  | 11 | 15 |\n",
       "| 4  | 8  | 12 | 16 |\n",
       "\n"
      ],
      "text/plain": [
       "     [,1] [,2] [,3] [,4]\n",
       "[1,] 1    5     9   13  \n",
       "[2,] 2    6    10   14  \n",
       "[3,] 3    7    11   15  \n",
       "[4,] 4    8    12   16  "
      ]
     },
     "metadata": {},
     "output_type": "display_data"
    }
   ],
   "source": [
    "matrix(c(1:16),nrow=4,ncol=4)"
   ]
  },
  {
   "cell_type": "code",
   "execution_count": 70,
   "id": "1d9a020c",
   "metadata": {},
   "outputs": [
    {
     "data": {
      "text/html": [
       "<table>\n",
       "<tbody>\n",
       "\t<tr><td> 1</td><td> 2</td><td> 3</td><td> 4</td></tr>\n",
       "\t<tr><td> 5</td><td> 6</td><td> 7</td><td> 8</td></tr>\n",
       "\t<tr><td> 9</td><td>10</td><td>11</td><td>12</td></tr>\n",
       "\t<tr><td>13</td><td>14</td><td>15</td><td>16</td></tr>\n",
       "</tbody>\n",
       "</table>\n"
      ],
      "text/latex": [
       "\\begin{tabular}{llll}\n",
       "\t  1 &  2 &  3 &  4\\\\\n",
       "\t  5 &  6 &  7 &  8\\\\\n",
       "\t  9 & 10 & 11 & 12\\\\\n",
       "\t 13 & 14 & 15 & 16\\\\\n",
       "\\end{tabular}\n"
      ],
      "text/markdown": [
       "\n",
       "|  1 |  2 |  3 |  4 |\n",
       "|  5 |  6 |  7 |  8 |\n",
       "|  9 | 10 | 11 | 12 |\n",
       "| 13 | 14 | 15 | 16 |\n",
       "\n"
      ],
      "text/plain": [
       "     [,1] [,2] [,3] [,4]\n",
       "[1,]  1    2    3    4  \n",
       "[2,]  5    6    7    8  \n",
       "[3,]  9   10   11   12  \n",
       "[4,] 13   14   15   16  "
      ]
     },
     "metadata": {},
     "output_type": "display_data"
    }
   ],
   "source": [
    "matrix(c(1:16),nrow=4,ncol=4,byrow=TRUE)"
   ]
  },
  {
   "cell_type": "code",
   "execution_count": 78,
   "id": "ec531ce3",
   "metadata": {},
   "outputs": [
    {
     "data": {
      "text/html": [
       "<table>\n",
       "<thead><tr><th></th><th scope=col>c1</th><th scope=col>c2</th><th scope=col>c3</th><th scope=col>c4</th></tr></thead>\n",
       "<tbody>\n",
       "\t<tr><th scope=row>r1</th><td> 1</td><td> 2</td><td> 3</td><td> 4</td></tr>\n",
       "\t<tr><th scope=row>r2</th><td> 5</td><td> 6</td><td> 7</td><td> 8</td></tr>\n",
       "\t<tr><th scope=row>r3</th><td> 9</td><td>10</td><td>11</td><td>12</td></tr>\n",
       "\t<tr><th scope=row>r4</th><td>13</td><td>14</td><td>15</td><td>16</td></tr>\n",
       "</tbody>\n",
       "</table>\n"
      ],
      "text/latex": [
       "\\begin{tabular}{r|llll}\n",
       "  & c1 & c2 & c3 & c4\\\\\n",
       "\\hline\n",
       "\tr1 &  1 &  2 &  3 &  4\\\\\n",
       "\tr2 &  5 &  6 &  7 &  8\\\\\n",
       "\tr3 &  9 & 10 & 11 & 12\\\\\n",
       "\tr4 & 13 & 14 & 15 & 16\\\\\n",
       "\\end{tabular}\n"
      ],
      "text/markdown": [
       "\n",
       "| <!--/--> | c1 | c2 | c3 | c4 |\n",
       "|---|---|---|---|---|\n",
       "| r1 |  1 |  2 |  3 |  4 |\n",
       "| r2 |  5 |  6 |  7 |  8 |\n",
       "| r3 |  9 | 10 | 11 | 12 |\n",
       "| r4 | 13 | 14 | 15 | 16 |\n",
       "\n"
      ],
      "text/plain": [
       "   c1 c2 c3 c4\n",
       "r1  1  2  3  4\n",
       "r2  5  6  7  8\n",
       "r3  9 10 11 12\n",
       "r4 13 14 15 16"
      ]
     },
     "metadata": {},
     "output_type": "display_data"
    }
   ],
   "source": [
    "rname=c(\"r1\",\"r2\",\"r3\",\"r4\")\n",
    "cname=c(\"c1\",\"c2\",\"c3\",\"c4\")\n",
    "a=matrix(c(1:16),nrow=4,ncol=4,byrow=TRUE,dimname=list(rname,cname))  \n",
    "a #vector fr row and clmn names are put into a list and defined as dimname in the matrix"
   ]
  },
  {
   "cell_type": "code",
   "execution_count": 76,
   "id": "a507b7ab",
   "metadata": {},
   "outputs": [
    {
     "data": {
      "text/html": [
       "<dl class=dl-horizontal>\n",
       "\t<dt>r1</dt>\n",
       "\t\t<dd>3</dd>\n",
       "\t<dt>r2</dt>\n",
       "\t\t<dd>7</dd>\n",
       "\t<dt>r3</dt>\n",
       "\t\t<dd>11</dd>\n",
       "\t<dt>r4</dt>\n",
       "\t\t<dd>15</dd>\n",
       "</dl>\n"
      ],
      "text/latex": [
       "\\begin{description*}\n",
       "\\item[r1] 3\n",
       "\\item[r2] 7\n",
       "\\item[r3] 11\n",
       "\\item[r4] 15\n",
       "\\end{description*}\n"
      ],
      "text/markdown": [
       "r1\n",
       ":   3r2\n",
       ":   7r3\n",
       ":   11r4\n",
       ":   15\n",
       "\n"
      ],
      "text/plain": [
       "r1 r2 r3 r4 \n",
       " 3  7 11 15 "
      ]
     },
     "metadata": {},
     "output_type": "display_data"
    }
   ],
   "source": [
    "a[,3]"
   ]
  },
  {
   "cell_type": "code",
   "execution_count": 77,
   "id": "a4428dbc",
   "metadata": {},
   "outputs": [
    {
     "data": {
      "text/html": [
       "<dl class=dl-horizontal>\n",
       "\t<dt>c1</dt>\n",
       "\t\t<dd>9</dd>\n",
       "\t<dt>c2</dt>\n",
       "\t\t<dd>10</dd>\n",
       "\t<dt>c3</dt>\n",
       "\t\t<dd>11</dd>\n",
       "\t<dt>c4</dt>\n",
       "\t\t<dd>12</dd>\n",
       "</dl>\n"
      ],
      "text/latex": [
       "\\begin{description*}\n",
       "\\item[c1] 9\n",
       "\\item[c2] 10\n",
       "\\item[c3] 11\n",
       "\\item[c4] 12\n",
       "\\end{description*}\n"
      ],
      "text/markdown": [
       "c1\n",
       ":   9c2\n",
       ":   10c3\n",
       ":   11c4\n",
       ":   12\n",
       "\n"
      ],
      "text/plain": [
       "c1 c2 c3 c4 \n",
       " 9 10 11 12 "
      ]
     },
     "metadata": {},
     "output_type": "display_data"
    }
   ],
   "source": [
    "a[3,]"
   ]
  },
  {
   "cell_type": "markdown",
   "id": "7be4f025",
   "metadata": {},
   "source": [
    "#factors -store categorical data "
   ]
  },
  {
   "cell_type": "code",
   "execution_count": null,
   "id": "a7f4f16f",
   "metadata": {},
   "outputs": [],
   "source": [
    "a=factor(c(\"java\",\"java\",\"python\",\"c\"))\n",
    "a\n"
   ]
  },
  {
   "cell_type": "code",
   "execution_count": 80,
   "id": "6ee94fa4",
   "metadata": {},
   "outputs": [
    {
     "data": {
      "text/plain": [
       "a\n",
       "     c   java python \n",
       "     1      2      1 "
      ]
     },
     "metadata": {},
     "output_type": "display_data"
    }
   ],
   "source": [
    "table(a)"
   ]
  },
  {
   "cell_type": "code",
   "execution_count": 81,
   "id": "17653cb3",
   "metadata": {},
   "outputs": [
    {
     "data": {
      "text/html": [
       "<ol class=list-inline>\n",
       "\t<li>'c'</li>\n",
       "\t<li>'java'</li>\n",
       "\t<li>'python'</li>\n",
       "</ol>\n"
      ],
      "text/latex": [
       "\\begin{enumerate*}\n",
       "\\item 'c'\n",
       "\\item 'java'\n",
       "\\item 'python'\n",
       "\\end{enumerate*}\n"
      ],
      "text/markdown": [
       "1. 'c'\n",
       "2. 'java'\n",
       "3. 'python'\n",
       "\n",
       "\n"
      ],
      "text/plain": [
       "[1] \"c\"      \"java\"   \"python\""
      ]
     },
     "metadata": {},
     "output_type": "display_data"
    }
   ],
   "source": [
    "levels(a)"
   ]
  },
  {
   "cell_type": "code",
   "execution_count": 85,
   "id": "b0365822",
   "metadata": {},
   "outputs": [],
   "source": [
    "#get input from user for list"
   ]
  },
  {
   "cell_type": "code",
   "execution_count": 5,
   "id": "313b3ea9",
   "metadata": {},
   "outputs": [
    {
     "name": "stdout",
     "output_type": "stream",
     "text": [
      "no of elements in ur first vector3\n",
      "no of elements in ur 2nd vector3\n",
      "input for 1st vector1\n",
      "input for 1st vector2\n",
      "input for 1st vector3\n",
      "input for 2nd vector3\n",
      "input for 2nd vector2\n",
      "input for 2nd vector1\n",
      "[1] 1 2 3\n",
      "[1] 3 2 1\n"
     ]
    },
    {
     "data": {
      "text/html": [
       "'ur list is: c(1, 2, 3, 3, 2, 1)'"
      ],
      "text/latex": [
       "'ur list is: c(1, 2, 3, 3, 2, 1)'"
      ],
      "text/markdown": [
       "'ur list is: c(1, 2, 3, 3, 2, 1)'"
      ],
      "text/plain": [
       "[1] \"ur list is: c(1, 2, 3, 3, 2, 1)\""
      ]
     },
     "metadata": {},
     "output_type": "display_data"
    }
   ],
   "source": [
    "v1=c() #creating 2 vectors and to put it in a list\n",
    "v2=c()\n",
    "vn1=as.integer(readline(\"no of elements in ur first vector\"))\n",
    "vn2=as.integer(readline(\"no of elements in ur 2nd vector\"))\n",
    "for(i in seq(vn1))\n",
    "{v1[i]=as.numeric(readline(\"input for 1st vector\"))\n",
    "    \n",
    "}\n",
    "for(i in seq(vn2))\n",
    "    {v2[i]=as.numeric(readline(\"input for 2nd vector\"))}\n",
    "print(v1)\n",
    "print(v2)\n",
    "\n",
    "l=list(c(v1,v2))\n",
    "\n",
    "paste(\"ur list is:\",l)\n"
   ]
  },
  {
   "cell_type": "code",
   "execution_count": 5,
   "id": "7cb1c63c",
   "metadata": {},
   "outputs": [
    {
     "name": "stdout",
     "output_type": "stream",
     "text": [
      "  emp_id emp_name   emp_date gen\n",
      "1      1  Nirmala 2019-06-19   F\n",
      "2      2  Lavanya 2019-08-20   F\n",
      "3      3    Satya 2012-07-19   M\n"
     ]
    }
   ],
   "source": [
    "a=data.frame(emp_id=c(1,2,3),\n",
    "             emp_name=c(\"Nirmala\",\"Lavanya\",\"Satya\"),\n",
    "             emp_date=as.Date(c(\"2019-06-19\",\"2019-08-20\",\"2012-07-19\")),\n",
    "             gen=factor(c(\"F\",\"F\",\"M\")))\n",
    "            print(a)"
   ]
  },
  {
   "cell_type": "raw",
   "id": "0ad3bf46",
   "metadata": {},
   "source": [
    "str(a)"
   ]
  },
  {
   "cell_type": "code",
   "execution_count": 6,
   "id": "088cbb2b",
   "metadata": {},
   "outputs": [
    {
     "name": "stdout",
     "output_type": "stream",
     "text": [
      "'data.frame':\t3 obs. of  4 variables:\n",
      " $ emp_id  : num  1 2 3\n",
      " $ emp_name: Factor w/ 3 levels \"Lavanya\",\"Nirmala\",..: 2 1 3\n",
      " $ emp_date: Date, format: \"2019-06-19\" \"2019-08-20\" ...\n",
      " $ gen     : Factor w/ 2 levels \"F\",\"M\": 1 1 2\n"
     ]
    }
   ],
   "source": [
    "str(a)"
   ]
  },
  {
   "cell_type": "raw",
   "id": "e77efde3",
   "metadata": {},
   "source": [
    "a[emp_name]"
   ]
  },
  {
   "cell_type": "code",
   "execution_count": 7,
   "id": "416065ff",
   "metadata": {},
   "outputs": [
    {
     "data": {
      "text/html": [
       "<table>\n",
       "<thead><tr><th scope=col>emp_name</th></tr></thead>\n",
       "<tbody>\n",
       "\t<tr><td>Nirmala</td></tr>\n",
       "\t<tr><td>Lavanya</td></tr>\n",
       "\t<tr><td>Satya  </td></tr>\n",
       "</tbody>\n",
       "</table>\n"
      ],
      "text/latex": [
       "\\begin{tabular}{r|l}\n",
       " emp\\_name\\\\\n",
       "\\hline\n",
       "\t Nirmala\\\\\n",
       "\t Lavanya\\\\\n",
       "\t Satya  \\\\\n",
       "\\end{tabular}\n"
      ],
      "text/markdown": [
       "\n",
       "| emp_name |\n",
       "|---|\n",
       "| Nirmala |\n",
       "| Lavanya |\n",
       "| Satya   |\n",
       "\n"
      ],
      "text/plain": [
       "  emp_name\n",
       "1 Nirmala \n",
       "2 Lavanya \n",
       "3 Satya   "
      ]
     },
     "metadata": {},
     "output_type": "display_data"
    }
   ],
   "source": [
    "a[\"emp_name\"]"
   ]
  },
  {
   "cell_type": "code",
   "execution_count": 8,
   "id": "aa044399",
   "metadata": {},
   "outputs": [
    {
     "data": {
      "text/plain": [
       "     emp_id       emp_name    emp_date          gen  \n",
       " Min.   :1.0   Lavanya:1   Min.   :2012-07-19   F:2  \n",
       " 1st Qu.:1.5   Nirmala:1   1st Qu.:2016-01-03   M:1  \n",
       " Median :2.0   Satya  :1   Median :2019-06-19        \n",
       " Mean   :2.0               Mean   :2017-03-19        \n",
       " 3rd Qu.:2.5               3rd Qu.:2019-07-20        \n",
       " Max.   :3.0               Max.   :2019-08-20        "
      ]
     },
     "metadata": {},
     "output_type": "display_data"
    }
   ],
   "source": [
    "summary(a)"
   ]
  },
  {
   "cell_type": "code",
   "execution_count": 9,
   "id": "2eef60a2",
   "metadata": {},
   "outputs": [
    {
     "data": {
      "text/html": [
       "<table>\n",
       "<thead><tr><th scope=col>a.emp_name</th><th scope=col>a.emp_date</th></tr></thead>\n",
       "<tbody>\n",
       "\t<tr><td>Nirmala   </td><td>2019-06-19</td></tr>\n",
       "\t<tr><td>Lavanya   </td><td>2019-08-20</td></tr>\n",
       "\t<tr><td>Satya     </td><td>2012-07-19</td></tr>\n",
       "</tbody>\n",
       "</table>\n"
      ],
      "text/latex": [
       "\\begin{tabular}{r|ll}\n",
       " a.emp\\_name & a.emp\\_date\\\\\n",
       "\\hline\n",
       "\t Nirmala    & 2019-06-19\\\\\n",
       "\t Lavanya    & 2019-08-20\\\\\n",
       "\t Satya      & 2012-07-19\\\\\n",
       "\\end{tabular}\n"
      ],
      "text/markdown": [
       "\n",
       "| a.emp_name | a.emp_date |\n",
       "|---|---|\n",
       "| Nirmala    | 2019-06-19 |\n",
       "| Lavanya    | 2019-08-20 |\n",
       "| Satya      | 2012-07-19 |\n",
       "\n"
      ],
      "text/plain": [
       "  a.emp_name a.emp_date\n",
       "1 Nirmala    2019-06-19\n",
       "2 Lavanya    2019-08-20\n",
       "3 Satya      2012-07-19"
      ]
     },
     "metadata": {},
     "output_type": "display_data"
    }
   ],
   "source": [
    "data.frame(a$emp_name,a$emp_date)"
   ]
  },
  {
   "cell_type": "code",
   "execution_count": 13,
   "id": "3b765991",
   "metadata": {},
   "outputs": [
    {
     "data": {
      "text/html": [
       "<table>\n",
       "<thead><tr><th></th><th scope=col>emp_id</th><th scope=col>emp_name</th><th scope=col>emp_date</th><th scope=col>gen</th></tr></thead>\n",
       "<tbody>\n",
       "\t<tr><th scope=row>3</th><td>3         </td><td>Satya     </td><td>2012-07-19</td><td>M         </td></tr>\n",
       "\t<tr><th scope=row>1</th><td>1         </td><td>Nirmala   </td><td>2019-06-19</td><td>F         </td></tr>\n",
       "\t<tr><th scope=row>2</th><td>2         </td><td>Lavanya   </td><td>2019-08-20</td><td>F         </td></tr>\n",
       "</tbody>\n",
       "</table>\n"
      ],
      "text/latex": [
       "\\begin{tabular}{r|llll}\n",
       "  & emp\\_id & emp\\_name & emp\\_date & gen\\\\\n",
       "\\hline\n",
       "\t3 & 3          & Satya      & 2012-07-19 & M         \\\\\n",
       "\t1 & 1          & Nirmala    & 2019-06-19 & F         \\\\\n",
       "\t2 & 2          & Lavanya    & 2019-08-20 & F         \\\\\n",
       "\\end{tabular}\n"
      ],
      "text/markdown": [
       "\n",
       "| <!--/--> | emp_id | emp_name | emp_date | gen |\n",
       "|---|---|---|---|---|\n",
       "| 3 | 3          | Satya      | 2012-07-19 | M          |\n",
       "| 1 | 1          | Nirmala    | 2019-06-19 | F          |\n",
       "| 2 | 2          | Lavanya    | 2019-08-20 | F          |\n",
       "\n"
      ],
      "text/plain": [
       "  emp_id emp_name emp_date   gen\n",
       "3 3      Satya    2012-07-19 M  \n",
       "1 1      Nirmala  2019-06-19 F  \n",
       "2 2      Lavanya  2019-08-20 F  "
      ]
     },
     "metadata": {},
     "output_type": "display_data"
    }
   ],
   "source": [
    "#sort w joining date\n",
    "a[with(a,order(a$emp_date)),]"
   ]
  },
  {
   "cell_type": "code",
   "execution_count": 33,
   "id": "f6a90bda",
   "metadata": {},
   "outputs": [
    {
     "data": {
      "text/html": [
       "<table>\n",
       "<thead><tr><th scope=col>emp_id</th><th scope=col>emp_name</th><th scope=col>emp_date</th></tr></thead>\n",
       "<tbody>\n",
       "\t<tr><td>1         </td><td>Nirmala   </td><td>2019-06-19</td></tr>\n",
       "\t<tr><td>2         </td><td>Lavanya   </td><td>2019-08-20</td></tr>\n",
       "\t<tr><td>3         </td><td>Satya     </td><td>2012-07-19</td></tr>\n",
       "</tbody>\n",
       "</table>\n"
      ],
      "text/latex": [
       "\\begin{tabular}{r|lll}\n",
       " emp\\_id & emp\\_name & emp\\_date\\\\\n",
       "\\hline\n",
       "\t 1          & Nirmala    & 2019-06-19\\\\\n",
       "\t 2          & Lavanya    & 2019-08-20\\\\\n",
       "\t 3          & Satya      & 2012-07-19\\\\\n",
       "\\end{tabular}\n"
      ],
      "text/markdown": [
       "\n",
       "| emp_id | emp_name | emp_date |\n",
       "|---|---|---|\n",
       "| 1          | Nirmala    | 2019-06-19 |\n",
       "| 2          | Lavanya    | 2019-08-20 |\n",
       "| 3          | Satya      | 2012-07-19 |\n",
       "\n"
      ],
      "text/plain": [
       "  emp_id emp_name emp_date  \n",
       "1 1      Nirmala  2019-06-19\n",
       "2 2      Lavanya  2019-08-20\n",
       "3 3      Satya    2012-07-19"
      ]
     },
     "metadata": {},
     "output_type": "display_data"
    }
   ],
   "source": [
    "a[with(a,order(emp_id))]"
   ]
  },
  {
   "cell_type": "code",
   "execution_count": null,
   "id": "4fc7d6f3",
   "metadata": {},
   "outputs": [],
   "source": []
  }
 ],
 "metadata": {
  "kernelspec": {
   "display_name": "R",
   "language": "R",
   "name": "ir"
  },
  "language_info": {
   "codemirror_mode": "r",
   "file_extension": ".r",
   "mimetype": "text/x-r-source",
   "name": "R",
   "pygments_lexer": "r",
   "version": "3.6.1"
  }
 },
 "nbformat": 4,
 "nbformat_minor": 5
}
