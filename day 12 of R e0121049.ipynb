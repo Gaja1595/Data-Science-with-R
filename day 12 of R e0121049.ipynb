{
 "cells": [
  {
   "cell_type": "code",
   "execution_count": 3,
   "id": "7bd05408",
   "metadata": {},
   "outputs": [
    {
     "name": "stderr",
     "output_type": "stream",
     "text": [
      "also installing the dependencies 'class', 'proxy'\n",
      "\n"
     ]
    },
    {
     "name": "stdout",
     "output_type": "stream",
     "text": [
      "\n",
      "  There are binary versions available but the source versions are later:\n",
      "      binary source needs_compilation\n",
      "class 7.3-19 7.3-20              TRUE\n",
      "proxy 0.4-25 0.4-27              TRUE\n",
      "e1071  1.7-6 1.7-12              TRUE\n",
      "\n",
      "  Binaries will be installed\n",
      "package 'class' successfully unpacked and MD5 sums checked\n",
      "package 'proxy' successfully unpacked and MD5 sums checked\n",
      "package 'e1071' successfully unpacked and MD5 sums checked\n",
      "\n",
      "The downloaded binary packages are in\n",
      "\tC:\\Users\\gaja1\\AppData\\Local\\Temp\\RtmpeaLLgb\\downloaded_packages\n"
     ]
    }
   ],
   "source": [
    "install.packages(\"e1071\")"
   ]
  },
  {
   "cell_type": "raw",
   "id": "1e4ca173",
   "metadata": {},
   "source": []
  },
  {
   "cell_type": "code",
   "execution_count": 4,
   "id": "e0249970",
   "metadata": {},
   "outputs": [
    {
     "name": "stderr",
     "output_type": "stream",
     "text": [
      "Warning message:\n",
      "\"package 'e1071' was built under R version 3.6.3\""
     ]
    }
   ],
   "source": [
    "library(\"e1071\")"
   ]
  },
  {
   "cell_type": "code",
   "execution_count": 7,
   "id": "48cfa5e1",
   "metadata": {},
   "outputs": [
    {
     "data": {
      "image/png": "[encoded data removed]",
      "text/plain": [
       "Plot with title \"density.default(x = x)\""
      ]
     },
     "metadata": {},
     "output_type": "display_data"
    }
   ],
   "source": [
    "x=c(1,2,3,4,5,6)\n",
    "\n",
    "a=kurtosis(x)\n",
    "\n",
    "plot(density(x))"
   ]
  },
  {
   "cell_type": "code",
   "execution_count": null,
   "id": "d5578949",
   "metadata": {},
   "outputs": [],
   "source": []
  }
 ],
 "metadata": {
  "kernelspec": {
   "display_name": "R",
   "language": "R",
   "name": "ir"
  },
  "language_info": {
   "codemirror_mode": "r",
   "file_extension": ".r",
   "mimetype": "text/x-r-source",
   "name": "R",
   "pygments_lexer": "r",
   "version": "3.6.1"
  }
 },
 "nbformat": 4,
 "nbformat_minor": 5
}
