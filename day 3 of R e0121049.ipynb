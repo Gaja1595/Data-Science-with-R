{
 "cells": [
  {
   "cell_type": "code",
   "execution_count": 46,
   "id": "40e3b136",
   "metadata": {},
   "outputs": [
    {
     "name": "stdout",
     "output_type": "stream",
     "text": [
      "  emp_id emp_name   emp_date gen\n",
      "1      1  Nirmala 2019-06-19   F\n",
      "2      2  Lavanya 2019-08-20   F\n",
      "3      3    Satya 2012-07-19   M\n"
     ]
    }
   ],
   "source": [
    "a=data.frame(emp_id=c(1,2,3),\n",
    "             emp_name=c(\"Nirmala\",\"Lavanya\",\"Satya\"),\n",
    "             emp_date=as.Date(c(\"2019-06-19\",\"2019-08-20\",\"2012-07-19\")),\n",
    "             gen=factor(c(\"F\",\"F\",\"M\")))\n",
    "            print(a)"
   ]
  },
  {
   "cell_type": "code",
   "execution_count": 47,
   "id": "ad0fa260",
   "metadata": {},
   "outputs": [
    {
     "data": {
      "text/html": [
       "<table>\n",
       "<thead><tr><th></th><th scope=col>emp_id</th><th scope=col>emp_name</th><th scope=col>emp_date</th><th scope=col>gen</th></tr></thead>\n",
       "<tbody>\n",
       "\t<tr><th scope=row>3</th><td>3         </td><td>Satya     </td><td>2012-07-19</td><td>M         </td></tr>\n",
       "\t<tr><th scope=row>1</th><td>1         </td><td>Nirmala   </td><td>2019-06-19</td><td>F         </td></tr>\n",
       "\t<tr><th scope=row>2</th><td>2         </td><td>Lavanya   </td><td>2019-08-20</td><td>F         </td></tr>\n",
       "</tbody>\n",
       "</table>\n"
      ],
      "text/latex": [
       "\\begin{tabular}{r|llll}\n",
       "  & emp\\_id & emp\\_name & emp\\_date & gen\\\\\n",
       "\\hline\n",
       "\t3 & 3          & Satya      & 2012-07-19 & M         \\\\\n",
       "\t1 & 1          & Nirmala    & 2019-06-19 & F         \\\\\n",
       "\t2 & 2          & Lavanya    & 2019-08-20 & F         \\\\\n",
       "\\end{tabular}\n"
      ],
      "text/markdown": [
       "\n",
       "| <!--/--> | emp_id | emp_name | emp_date | gen |\n",
       "|---|---|---|---|---|\n",
       "| 3 | 3          | Satya      | 2012-07-19 | M          |\n",
       "| 1 | 1          | Nirmala    | 2019-06-19 | F          |\n",
       "| 2 | 2          | Lavanya    | 2019-08-20 | F          |\n",
       "\n"
      ],
      "text/plain": [
       "  emp_id emp_name emp_date   gen\n",
       "3 3      Satya    2012-07-19 M  \n",
       "1 1      Nirmala  2019-06-19 F  \n",
       "2 2      Lavanya  2019-08-20 F  "
      ]
     },
     "metadata": {},
     "output_type": "display_data"
    }
   ],
   "source": [
    "#sort w joining date\n",
    "a[with(a,order(a$emp_date)),]"
   ]
  },
  {
   "cell_type": "code",
   "execution_count": 48,
   "id": "47c7ef5e",
   "metadata": {},
   "outputs": [
    {
     "data": {
      "text/html": [
       "<table>\n",
       "<thead><tr><th scope=col>emp_id</th><th scope=col>emp_name</th><th scope=col>emp_date</th></tr></thead>\n",
       "<tbody>\n",
       "\t<tr><td>1         </td><td>Nirmala   </td><td>2019-06-19</td></tr>\n",
       "\t<tr><td>2         </td><td>Lavanya   </td><td>2019-08-20</td></tr>\n",
       "\t<tr><td>3         </td><td>Satya     </td><td>2012-07-19</td></tr>\n",
       "</tbody>\n",
       "</table>\n"
      ],
      "text/latex": [
       "\\begin{tabular}{r|lll}\n",
       " emp\\_id & emp\\_name & emp\\_date\\\\\n",
       "\\hline\n",
       "\t 1          & Nirmala    & 2019-06-19\\\\\n",
       "\t 2          & Lavanya    & 2019-08-20\\\\\n",
       "\t 3          & Satya      & 2012-07-19\\\\\n",
       "\\end{tabular}\n"
      ],
      "text/markdown": [
       "\n",
       "| emp_id | emp_name | emp_date |\n",
       "|---|---|---|\n",
       "| 1          | Nirmala    | 2019-06-19 |\n",
       "| 2          | Lavanya    | 2019-08-20 |\n",
       "| 3          | Satya      | 2012-07-19 |\n",
       "\n"
      ],
      "text/plain": [
       "  emp_id emp_name emp_date  \n",
       "1 1      Nirmala  2019-06-19\n",
       "2 2      Lavanya  2019-08-20\n",
       "3 3      Satya    2012-07-19"
      ]
     },
     "metadata": {},
     "output_type": "display_data"
    }
   ],
   "source": [
    "a[with(a,order(a$emp_id))]"
   ]
  },
  {
   "cell_type": "code",
   "execution_count": 49,
   "id": "94253541",
   "metadata": {},
   "outputs": [
    {
     "data": {
      "text/html": [
       "<table>\n",
       "<thead><tr><th scope=col>emp_id</th><th scope=col>emp_name</th><th scope=col>emp_date</th><th scope=col>gen</th></tr></thead>\n",
       "<tbody>\n",
       "\t<tr><td>1         </td><td>Nirmala   </td><td>2019-06-19</td><td>F         </td></tr>\n",
       "\t<tr><td>2         </td><td>Lavanya   </td><td>2019-08-20</td><td>F         </td></tr>\n",
       "\t<tr><td>3         </td><td>Satya     </td><td>2012-07-19</td><td>M         </td></tr>\n",
       "</tbody>\n",
       "</table>\n"
      ],
      "text/latex": [
       "\\begin{tabular}{r|llll}\n",
       " emp\\_id & emp\\_name & emp\\_date & gen\\\\\n",
       "\\hline\n",
       "\t 1          & Nirmala    & 2019-06-19 & F         \\\\\n",
       "\t 2          & Lavanya    & 2019-08-20 & F         \\\\\n",
       "\t 3          & Satya      & 2012-07-19 & M         \\\\\n",
       "\\end{tabular}\n"
      ],
      "text/markdown": [
       "\n",
       "| emp_id | emp_name | emp_date | gen |\n",
       "|---|---|---|---|\n",
       "| 1          | Nirmala    | 2019-06-19 | F          |\n",
       "| 2          | Lavanya    | 2019-08-20 | F          |\n",
       "| 3          | Satya      | 2012-07-19 | M          |\n",
       "\n"
      ],
      "text/plain": [
       "  emp_id emp_name emp_date   gen\n",
       "1 1      Nirmala  2019-06-19 F  \n",
       "2 2      Lavanya  2019-08-20 F  \n",
       "3 3      Satya    2012-07-19 M  "
      ]
     },
     "metadata": {},
     "output_type": "display_data"
    }
   ],
   "source": [
    "a[with(a,order(c(a$emp_id))),]"
   ]
  },
  {
   "cell_type": "code",
   "execution_count": 50,
   "id": "cd59e866",
   "metadata": {},
   "outputs": [],
   "source": [
    "a$emp_dept=c(\"CSE\",\"PHY\",\"MATHS\")"
   ]
  },
  {
   "cell_type": "code",
   "execution_count": 51,
   "id": "66f19fb7",
   "metadata": {},
   "outputs": [
    {
     "data": {
      "text/html": [
       "<table>\n",
       "<thead><tr><th scope=col>emp_id</th><th scope=col>emp_name</th><th scope=col>emp_date</th><th scope=col>gen</th><th scope=col>emp_dept</th></tr></thead>\n",
       "<tbody>\n",
       "\t<tr><td>1         </td><td>Nirmala   </td><td>2019-06-19</td><td>F         </td><td>CSE       </td></tr>\n",
       "\t<tr><td>2         </td><td>Lavanya   </td><td>2019-08-20</td><td>F         </td><td>PHY       </td></tr>\n",
       "\t<tr><td>3         </td><td>Satya     </td><td>2012-07-19</td><td>M         </td><td>MATHS     </td></tr>\n",
       "</tbody>\n",
       "</table>\n"
      ],
      "text/latex": [
       "\\begin{tabular}{r|lllll}\n",
       " emp\\_id & emp\\_name & emp\\_date & gen & emp\\_dept\\\\\n",
       "\\hline\n",
       "\t 1          & Nirmala    & 2019-06-19 & F          & CSE       \\\\\n",
       "\t 2          & Lavanya    & 2019-08-20 & F          & PHY       \\\\\n",
       "\t 3          & Satya      & 2012-07-19 & M          & MATHS     \\\\\n",
       "\\end{tabular}\n"
      ],
      "text/markdown": [
       "\n",
       "| emp_id | emp_name | emp_date | gen | emp_dept |\n",
       "|---|---|---|---|---|\n",
       "| 1          | Nirmala    | 2019-06-19 | F          | CSE        |\n",
       "| 2          | Lavanya    | 2019-08-20 | F          | PHY        |\n",
       "| 3          | Satya      | 2012-07-19 | M          | MATHS      |\n",
       "\n"
      ],
      "text/plain": [
       "  emp_id emp_name emp_date   gen emp_dept\n",
       "1 1      Nirmala  2019-06-19 F   CSE     \n",
       "2 2      Lavanya  2019-08-20 F   PHY     \n",
       "3 3      Satya    2012-07-19 M   MATHS   "
      ]
     },
     "metadata": {},
     "output_type": "display_data"
    }
   ],
   "source": [
    "a"
   ]
  },
  {
   "cell_type": "code",
   "execution_count": 52,
   "id": "9f8c2572",
   "metadata": {},
   "outputs": [],
   "source": [
    "b=data.frame(emp_id=c(4,5),\n",
    "             emp_name=c(\"Gaja\",\"Mithun\"),\n",
    "             emp_date=as.Date(c(\"2019-06-13\",\"2019-08-02\")),\n",
    "             gen=factor(c(\"M\",\"M\")),\n",
    "            emp_dept=(c(\"phy2\",\"MATHS2\")))\n",
    "            "
   ]
  },
  {
   "cell_type": "code",
   "execution_count": null,
   "id": "552c2afe",
   "metadata": {},
   "outputs": [],
   "source": []
  },
  {
   "cell_type": "code",
   "execution_count": 53,
   "id": "910e3b02",
   "metadata": {},
   "outputs": [
    {
     "data": {
      "text/html": [
       "<table>\n",
       "<thead><tr><th scope=col>emp_id</th><th scope=col>emp_name</th><th scope=col>emp_date</th><th scope=col>gen</th><th scope=col>emp_dept</th></tr></thead>\n",
       "<tbody>\n",
       "\t<tr><td>4         </td><td>Gaja      </td><td>2019-06-13</td><td>M         </td><td>phy2      </td></tr>\n",
       "\t<tr><td>5         </td><td>Mithun    </td><td>2019-08-02</td><td>M         </td><td>MATHS2    </td></tr>\n",
       "</tbody>\n",
       "</table>\n"
      ],
      "text/latex": [
       "\\begin{tabular}{r|lllll}\n",
       " emp\\_id & emp\\_name & emp\\_date & gen & emp\\_dept\\\\\n",
       "\\hline\n",
       "\t 4          & Gaja       & 2019-06-13 & M          & phy2      \\\\\n",
       "\t 5          & Mithun     & 2019-08-02 & M          & MATHS2    \\\\\n",
       "\\end{tabular}\n"
      ],
      "text/markdown": [
       "\n",
       "| emp_id | emp_name | emp_date | gen | emp_dept |\n",
       "|---|---|---|---|---|\n",
       "| 4          | Gaja       | 2019-06-13 | M          | phy2       |\n",
       "| 5          | Mithun     | 2019-08-02 | M          | MATHS2     |\n",
       "\n"
      ],
      "text/plain": [
       "  emp_id emp_name emp_date   gen emp_dept\n",
       "1 4      Gaja     2019-06-13 M   phy2    \n",
       "2 5      Mithun   2019-08-02 M   MATHS2  "
      ]
     },
     "metadata": {},
     "output_type": "display_data"
    }
   ],
   "source": [
    "b"
   ]
  },
  {
   "cell_type": "code",
   "execution_count": 54,
   "id": "dfe02989",
   "metadata": {},
   "outputs": [],
   "source": [
    "c=rbind(a,b)"
   ]
  },
  {
   "cell_type": "code",
   "execution_count": 55,
   "id": "0219b8d8",
   "metadata": {},
   "outputs": [
    {
     "data": {
      "text/html": [
       "<table>\n",
       "<thead><tr><th scope=col>emp_id</th><th scope=col>emp_name</th><th scope=col>emp_date</th><th scope=col>gen</th><th scope=col>emp_dept</th></tr></thead>\n",
       "<tbody>\n",
       "\t<tr><td>1         </td><td>Nirmala   </td><td>2019-06-19</td><td>F         </td><td>CSE       </td></tr>\n",
       "\t<tr><td>2         </td><td>Lavanya   </td><td>2019-08-20</td><td>F         </td><td>PHY       </td></tr>\n",
       "\t<tr><td>3         </td><td>Satya     </td><td>2012-07-19</td><td>M         </td><td>MATHS     </td></tr>\n",
       "\t<tr><td>4         </td><td>Gaja      </td><td>2019-06-13</td><td>M         </td><td>phy2      </td></tr>\n",
       "\t<tr><td>5         </td><td>Mithun    </td><td>2019-08-02</td><td>M         </td><td>MATHS2    </td></tr>\n",
       "</tbody>\n",
       "</table>\n"
      ],
      "text/latex": [
       "\\begin{tabular}{r|lllll}\n",
       " emp\\_id & emp\\_name & emp\\_date & gen & emp\\_dept\\\\\n",
       "\\hline\n",
       "\t 1          & Nirmala    & 2019-06-19 & F          & CSE       \\\\\n",
       "\t 2          & Lavanya    & 2019-08-20 & F          & PHY       \\\\\n",
       "\t 3          & Satya      & 2012-07-19 & M          & MATHS     \\\\\n",
       "\t 4          & Gaja       & 2019-06-13 & M          & phy2      \\\\\n",
       "\t 5          & Mithun     & 2019-08-02 & M          & MATHS2    \\\\\n",
       "\\end{tabular}\n"
      ],
      "text/markdown": [
       "\n",
       "| emp_id | emp_name | emp_date | gen | emp_dept |\n",
       "|---|---|---|---|---|\n",
       "| 1          | Nirmala    | 2019-06-19 | F          | CSE        |\n",
       "| 2          | Lavanya    | 2019-08-20 | F          | PHY        |\n",
       "| 3          | Satya      | 2012-07-19 | M          | MATHS      |\n",
       "| 4          | Gaja       | 2019-06-13 | M          | phy2       |\n",
       "| 5          | Mithun     | 2019-08-02 | M          | MATHS2     |\n",
       "\n"
      ],
      "text/plain": [
       "  emp_id emp_name emp_date   gen emp_dept\n",
       "1 1      Nirmala  2019-06-19 F   CSE     \n",
       "2 2      Lavanya  2019-08-20 F   PHY     \n",
       "3 3      Satya    2012-07-19 M   MATHS   \n",
       "4 4      Gaja     2019-06-13 M   phy2    \n",
       "5 5      Mithun   2019-08-02 M   MATHS2  "
      ]
     },
     "metadata": {},
     "output_type": "display_data"
    }
   ],
   "source": [
    "c"
   ]
  },
  {
   "cell_type": "code",
   "execution_count": 56,
   "id": "9d83c274",
   "metadata": {},
   "outputs": [],
   "source": [
    "d=subset(a,select=-c(emp_dept))    #remove col"
   ]
  },
  {
   "cell_type": "code",
   "execution_count": 57,
   "id": "7a9e9408",
   "metadata": {},
   "outputs": [
    {
     "data": {
      "text/html": [
       "<table>\n",
       "<thead><tr><th scope=col>emp_id</th><th scope=col>emp_name</th><th scope=col>emp_date</th><th scope=col>gen</th></tr></thead>\n",
       "<tbody>\n",
       "\t<tr><td>1         </td><td>Nirmala   </td><td>2019-06-19</td><td>F         </td></tr>\n",
       "\t<tr><td>2         </td><td>Lavanya   </td><td>2019-08-20</td><td>F         </td></tr>\n",
       "\t<tr><td>3         </td><td>Satya     </td><td>2012-07-19</td><td>M         </td></tr>\n",
       "</tbody>\n",
       "</table>\n"
      ],
      "text/latex": [
       "\\begin{tabular}{r|llll}\n",
       " emp\\_id & emp\\_name & emp\\_date & gen\\\\\n",
       "\\hline\n",
       "\t 1          & Nirmala    & 2019-06-19 & F         \\\\\n",
       "\t 2          & Lavanya    & 2019-08-20 & F         \\\\\n",
       "\t 3          & Satya      & 2012-07-19 & M         \\\\\n",
       "\\end{tabular}\n"
      ],
      "text/markdown": [
       "\n",
       "| emp_id | emp_name | emp_date | gen |\n",
       "|---|---|---|---|\n",
       "| 1          | Nirmala    | 2019-06-19 | F          |\n",
       "| 2          | Lavanya    | 2019-08-20 | F          |\n",
       "| 3          | Satya      | 2012-07-19 | M          |\n",
       "\n"
      ],
      "text/plain": [
       "  emp_id emp_name emp_date   gen\n",
       "1 1      Nirmala  2019-06-19 F  \n",
       "2 2      Lavanya  2019-08-20 F  \n",
       "3 3      Satya    2012-07-19 M  "
      ]
     },
     "metadata": {},
     "output_type": "display_data"
    }
   ],
   "source": [
    "d"
   ]
  },
  {
   "cell_type": "code",
   "execution_count": 58,
   "id": "f9ac52ed",
   "metadata": {},
   "outputs": [
    {
     "data": {
      "text/html": [
       "<table>\n",
       "<thead><tr><th></th><th scope=col>emp_id</th><th scope=col>emp_name</th><th scope=col>emp_date</th><th scope=col>gen</th><th scope=col>emp_dept</th></tr></thead>\n",
       "<tbody>\n",
       "\t<tr><th scope=row>2</th><td>2         </td><td>Lavanya   </td><td>2019-08-20</td><td>F         </td><td>PHY       </td></tr>\n",
       "\t<tr><th scope=row>3</th><td>3         </td><td>Satya     </td><td>2012-07-19</td><td>M         </td><td>MATHS     </td></tr>\n",
       "</tbody>\n",
       "</table>\n"
      ],
      "text/latex": [
       "\\begin{tabular}{r|lllll}\n",
       "  & emp\\_id & emp\\_name & emp\\_date & gen & emp\\_dept\\\\\n",
       "\\hline\n",
       "\t2 & 2          & Lavanya    & 2019-08-20 & F          & PHY       \\\\\n",
       "\t3 & 3          & Satya      & 2012-07-19 & M          & MATHS     \\\\\n",
       "\\end{tabular}\n"
      ],
      "text/markdown": [
       "\n",
       "| <!--/--> | emp_id | emp_name | emp_date | gen | emp_dept |\n",
       "|---|---|---|---|---|---|\n",
       "| 2 | 2          | Lavanya    | 2019-08-20 | F          | PHY        |\n",
       "| 3 | 3          | Satya      | 2012-07-19 | M          | MATHS      |\n",
       "\n"
      ],
      "text/plain": [
       "  emp_id emp_name emp_date   gen emp_dept\n",
       "2 2      Lavanya  2019-08-20 F   PHY     \n",
       "3 3      Satya    2012-07-19 M   MATHS   "
      ]
     },
     "metadata": {},
     "output_type": "display_data"
    }
   ],
   "source": [
    "c=a[-c(1),]           #remove row\n",
    "c"
   ]
  },
  {
   "cell_type": "code",
   "execution_count": 69,
   "id": "8412be5b",
   "metadata": {},
   "outputs": [
    {
     "data": {
      "text/html": [
       "<table>\n",
       "<thead><tr><th scope=col>stu_id</th><th scope=col>pdt</th></tr></thead>\n",
       "<tbody>\n",
       "\t<tr><td>101  </td><td>one  </td></tr>\n",
       "\t<tr><td>102  </td><td>two  </td></tr>\n",
       "\t<tr><td>103  </td><td>three</td></tr>\n",
       "\t<tr><td>104  </td><td>four </td></tr>\n",
       "\t<tr><td>105  </td><td>five </td></tr>\n",
       "\t<tr><td>106  </td><td>six  </td></tr>\n",
       "</tbody>\n",
       "</table>\n"
      ],
      "text/latex": [
       "\\begin{tabular}{r|ll}\n",
       " stu\\_id & pdt\\\\\n",
       "\\hline\n",
       "\t 101   & one  \\\\\n",
       "\t 102   & two  \\\\\n",
       "\t 103   & three\\\\\n",
       "\t 104   & four \\\\\n",
       "\t 105   & five \\\\\n",
       "\t 106   & six  \\\\\n",
       "\\end{tabular}\n"
      ],
      "text/markdown": [
       "\n",
       "| stu_id | pdt |\n",
       "|---|---|\n",
       "| 101   | one   |\n",
       "| 102   | two   |\n",
       "| 103   | three |\n",
       "| 104   | four  |\n",
       "| 105   | five  |\n",
       "| 106   | six   |\n",
       "\n"
      ],
      "text/plain": [
       "  stu_id pdt  \n",
       "1 101    one  \n",
       "2 102    two  \n",
       "3 103    three\n",
       "4 104    four \n",
       "5 105    five \n",
       "6 106    six  "
      ]
     },
     "metadata": {},
     "output_type": "display_data"
    }
   ],
   "source": [
    "df1=data.frame(stu_id=c(101,102,103,104,105,106),                                           \n",
    "             pdt=c(\"one\",\"two\",\"three\",\"four\",\"five\",\"six\")\n",
    "             )\n",
    "            df1"
   ]
  },
  {
   "cell_type": "code",
   "execution_count": 70,
   "id": "8e21fe34",
   "metadata": {},
   "outputs": [
    {
     "data": {
      "text/html": [
       "<table>\n",
       "<thead><tr><th scope=col>stu_id</th><th scope=col>standard</th></tr></thead>\n",
       "<tbody>\n",
       "\t<tr><td>102</td><td>a  </td></tr>\n",
       "\t<tr><td>104</td><td>b  </td></tr>\n",
       "\t<tr><td>106</td><td>c  </td></tr>\n",
       "\t<tr><td>107</td><td>d  </td></tr>\n",
       "\t<tr><td>108</td><td>e  </td></tr>\n",
       "</tbody>\n",
       "</table>\n"
      ],
      "text/latex": [
       "\\begin{tabular}{r|ll}\n",
       " stu\\_id & standard\\\\\n",
       "\\hline\n",
       "\t 102 & a  \\\\\n",
       "\t 104 & b  \\\\\n",
       "\t 106 & c  \\\\\n",
       "\t 107 & d  \\\\\n",
       "\t 108 & e  \\\\\n",
       "\\end{tabular}\n"
      ],
      "text/markdown": [
       "\n",
       "| stu_id | standard |\n",
       "|---|---|\n",
       "| 102 | a   |\n",
       "| 104 | b   |\n",
       "| 106 | c   |\n",
       "| 107 | d   |\n",
       "| 108 | e   |\n",
       "\n"
      ],
      "text/plain": [
       "  stu_id standard\n",
       "1 102    a       \n",
       "2 104    b       \n",
       "3 106    c       \n",
       "4 107    d       \n",
       "5 108    e       "
      ]
     },
     "metadata": {},
     "output_type": "display_data"
    }
   ],
   "source": [
    "df2=data.frame(stu_id=c(102,104,106,107,108),\n",
    "             standard=c(\"a\",\"b\",\"c\",\"d\",\"e\")\n",
    "             )\n",
    "            df2"
   ]
  },
  {
   "cell_type": "code",
   "execution_count": 71,
   "id": "650c5220",
   "metadata": {},
   "outputs": [
    {
     "data": {
      "text/html": [
       "<table>\n",
       "<thead><tr><th scope=col>stu_id</th><th scope=col>pdt</th><th scope=col>standard</th></tr></thead>\n",
       "<tbody>\n",
       "\t<tr><td>101  </td><td>one  </td><td>NA   </td></tr>\n",
       "\t<tr><td>102  </td><td>two  </td><td>a    </td></tr>\n",
       "\t<tr><td>103  </td><td>three</td><td>NA   </td></tr>\n",
       "\t<tr><td>104  </td><td>four </td><td>b    </td></tr>\n",
       "\t<tr><td>105  </td><td>five </td><td>NA   </td></tr>\n",
       "\t<tr><td>106  </td><td>six  </td><td>c    </td></tr>\n",
       "</tbody>\n",
       "</table>\n"
      ],
      "text/latex": [
       "\\begin{tabular}{r|lll}\n",
       " stu\\_id & pdt & standard\\\\\n",
       "\\hline\n",
       "\t 101   & one   & NA   \\\\\n",
       "\t 102   & two   & a    \\\\\n",
       "\t 103   & three & NA   \\\\\n",
       "\t 104   & four  & b    \\\\\n",
       "\t 105   & five  & NA   \\\\\n",
       "\t 106   & six   & c    \\\\\n",
       "\\end{tabular}\n"
      ],
      "text/markdown": [
       "\n",
       "| stu_id | pdt | standard |\n",
       "|---|---|---|\n",
       "| 101   | one   | NA    |\n",
       "| 102   | two   | a     |\n",
       "| 103   | three | NA    |\n",
       "| 104   | four  | b     |\n",
       "| 105   | five  | NA    |\n",
       "| 106   | six   | c     |\n",
       "\n"
      ],
      "text/plain": [
       "  stu_id pdt   standard\n",
       "1 101    one   NA      \n",
       "2 102    two   a       \n",
       "3 103    three NA      \n",
       "4 104    four  b       \n",
       "5 105    five  NA      \n",
       "6 106    six   c       "
      ]
     },
     "metadata": {},
     "output_type": "display_data"
    }
   ],
   "source": [
    "df3=merge(x=df1,y=df2,by=\"stu_id\",all.x=TRUE)\n",
    "df3                                                             #LOJ3"
   ]
  },
  {
   "cell_type": "code",
   "execution_count": 72,
   "id": "192e2d3c",
   "metadata": {},
   "outputs": [
    {
     "data": {
      "text/html": [
       "<table>\n",
       "<thead><tr><th scope=col>stu_id</th><th scope=col>pdt</th><th scope=col>standard</th></tr></thead>\n",
       "<tbody>\n",
       "\t<tr><td>101  </td><td>one  </td><td>NA   </td></tr>\n",
       "\t<tr><td>102  </td><td>two  </td><td>a    </td></tr>\n",
       "\t<tr><td>103  </td><td>three</td><td>NA   </td></tr>\n",
       "\t<tr><td>104  </td><td>four </td><td>b    </td></tr>\n",
       "\t<tr><td>105  </td><td>five </td><td>NA   </td></tr>\n",
       "\t<tr><td>106  </td><td>six  </td><td>c    </td></tr>\n",
       "\t<tr><td>107  </td><td>NA   </td><td>d    </td></tr>\n",
       "\t<tr><td>108  </td><td>NA   </td><td>e    </td></tr>\n",
       "</tbody>\n",
       "</table>\n"
      ],
      "text/latex": [
       "\\begin{tabular}{r|lll}\n",
       " stu\\_id & pdt & standard\\\\\n",
       "\\hline\n",
       "\t 101   & one   & NA   \\\\\n",
       "\t 102   & two   & a    \\\\\n",
       "\t 103   & three & NA   \\\\\n",
       "\t 104   & four  & b    \\\\\n",
       "\t 105   & five  & NA   \\\\\n",
       "\t 106   & six   & c    \\\\\n",
       "\t 107   & NA    & d    \\\\\n",
       "\t 108   & NA    & e    \\\\\n",
       "\\end{tabular}\n"
      ],
      "text/markdown": [
       "\n",
       "| stu_id | pdt | standard |\n",
       "|---|---|---|\n",
       "| 101   | one   | NA    |\n",
       "| 102   | two   | a     |\n",
       "| 103   | three | NA    |\n",
       "| 104   | four  | b     |\n",
       "| 105   | five  | NA    |\n",
       "| 106   | six   | c     |\n",
       "| 107   | NA    | d     |\n",
       "| 108   | NA    | e     |\n",
       "\n"
      ],
      "text/plain": [
       "  stu_id pdt   standard\n",
       "1 101    one   NA      \n",
       "2 102    two   a       \n",
       "3 103    three NA      \n",
       "4 104    four  b       \n",
       "5 105    five  NA      \n",
       "6 106    six   c       \n",
       "7 107    NA    d       \n",
       "8 108    NA    e       "
      ]
     },
     "metadata": {},
     "output_type": "display_data"
    }
   ],
   "source": [
    "df4=merge(x=df1,y=df2,by=\"stu_id\",all=TRUE)                    #FOJ\n",
    "df4                        "
   ]
  },
  {
   "cell_type": "code",
   "execution_count": 73,
   "id": "9d2853e5",
   "metadata": {},
   "outputs": [
    {
     "data": {
      "text/html": [
       "<table>\n",
       "<thead><tr><th scope=col>stu_id</th><th scope=col>pdt</th><th scope=col>standard</th></tr></thead>\n",
       "<tbody>\n",
       "\t<tr><td>102 </td><td>two </td><td>a   </td></tr>\n",
       "\t<tr><td>104 </td><td>four</td><td>b   </td></tr>\n",
       "\t<tr><td>106 </td><td>six </td><td>c   </td></tr>\n",
       "</tbody>\n",
       "</table>\n"
      ],
      "text/latex": [
       "\\begin{tabular}{r|lll}\n",
       " stu\\_id & pdt & standard\\\\\n",
       "\\hline\n",
       "\t 102  & two  & a   \\\\\n",
       "\t 104  & four & b   \\\\\n",
       "\t 106  & six  & c   \\\\\n",
       "\\end{tabular}\n"
      ],
      "text/markdown": [
       "\n",
       "| stu_id | pdt | standard |\n",
       "|---|---|---|\n",
       "| 102  | two  | a    |\n",
       "| 104  | four | b    |\n",
       "| 106  | six  | c    |\n",
       "\n"
      ],
      "text/plain": [
       "  stu_id pdt  standard\n",
       "1 102    two  a       \n",
       "2 104    four b       \n",
       "3 106    six  c       "
      ]
     },
     "metadata": {},
     "output_type": "display_data"
    }
   ],
   "source": [
    "df5=merge(x=df1,y=df2,by=\"stu_id\",all=FALSE)                #natural join\n",
    "df5                        "
   ]
  },
  {
   "cell_type": "code",
   "execution_count": 74,
   "id": "8627743e",
   "metadata": {},
   "outputs": [
    {
     "data": {
      "text/html": [
       "<table>\n",
       "<thead><tr><th scope=col>stu_id</th><th scope=col>pdt</th><th scope=col>standard</th></tr></thead>\n",
       "<tbody>\n",
       "\t<tr><td>102 </td><td>two </td><td>a   </td></tr>\n",
       "\t<tr><td>104 </td><td>four</td><td>b   </td></tr>\n",
       "\t<tr><td>106 </td><td>six </td><td>c   </td></tr>\n",
       "\t<tr><td>107 </td><td>NA  </td><td>d   </td></tr>\n",
       "\t<tr><td>108 </td><td>NA  </td><td>e   </td></tr>\n",
       "</tbody>\n",
       "</table>\n"
      ],
      "text/latex": [
       "\\begin{tabular}{r|lll}\n",
       " stu\\_id & pdt & standard\\\\\n",
       "\\hline\n",
       "\t 102  & two  & a   \\\\\n",
       "\t 104  & four & b   \\\\\n",
       "\t 106  & six  & c   \\\\\n",
       "\t 107  & NA   & d   \\\\\n",
       "\t 108  & NA   & e   \\\\\n",
       "\\end{tabular}\n"
      ],
      "text/markdown": [
       "\n",
       "| stu_id | pdt | standard |\n",
       "|---|---|---|\n",
       "| 102  | two  | a    |\n",
       "| 104  | four | b    |\n",
       "| 106  | six  | c    |\n",
       "| 107  | NA   | d    |\n",
       "| 108  | NA   | e    |\n",
       "\n"
      ],
      "text/plain": [
       "  stu_id pdt  standard\n",
       "1 102    two  a       \n",
       "2 104    four b       \n",
       "3 106    six  c       \n",
       "4 107    NA   d       \n",
       "5 108    NA   e       "
      ]
     },
     "metadata": {},
     "output_type": "display_data"
    }
   ],
   "source": [
    "df6=merge(x=df1,y=df2,by=\"stu_id\",all.y=TRUE)                #roj join\n",
    "df6                      "
   ]
  },
  {
   "cell_type": "code",
   "execution_count": 78,
   "id": "c6e154a8",
   "metadata": {},
   "outputs": [
    {
     "name": "stdout",
     "output_type": "stream",
     "text": [
      "input6\n",
      "[1] \"even\"\n"
     ]
    }
   ],
   "source": [
    "a=as.integer(readline(\"input\"))\n",
    "if(a%%2==0)\n",
    "    {print(\"even\")\n",
    "    }else{print(\"odd\")}"
   ]
  },
  {
   "cell_type": "code",
   "execution_count": 79,
   "id": "08bb4328",
   "metadata": {},
   "outputs": [
    {
     "name": "stdout",
     "output_type": "stream",
     "text": [
      "[1] 1\n"
     ]
    }
   ],
   "source": [
    "l=list(1,2,3,4,5)\n",
    "for(x in l)\n",
    "    {if (x==2)\n",
    "        {break\n",
    "        }\n",
    "    print(x)\n",
    "    }"
   ]
  },
  {
   "cell_type": "code",
   "execution_count": 87,
   "id": "70e4b887",
   "metadata": {},
   "outputs": [
    {
     "name": "stdout",
     "output_type": "stream",
     "text": [
      "[1] 27\n",
      "[1] 152\n",
      "[1] 153\n",
      "[1] \"yes,it is the armstrong \"\n"
     ]
    }
   ],
   "source": [
    "num=153\n",
    "sum=0\n",
    "temp=num\n",
    "while(num>0)\n",
    "    {digit=num%%10\n",
    "    sum=sum+(digit^3)\n",
    "    num=floor(num/10)\n",
    "    print(sum)}\n",
    "if(temp==sum)\n",
    "    {print(\"yes,it is the armstrong \")\n",
    "    } else(\"no,it isnt armstrong number\")\n",
    "    "
   ]
  },
  {
   "cell_type": "code",
   "execution_count": 88,
   "id": "98efe0d4",
   "metadata": {},
   "outputs": [
    {
     "name": "stdout",
     "output_type": "stream",
     "text": [
      "[1] 27\n",
      "[1] 152\n",
      "[1] 153\n",
      "[1] \"yes,it is the armstrong \"\n"
     ]
    }
   ],
   "source": [
    "num=153\n",
    "sum=0\n",
    "temp=num\n",
    "while(num>0)\n",
    "    {digit=num%%10\n",
    "    sum=sum+(digit^3)\n",
    "    num=floor(num/10)\n",
    "    print(sum)}\n",
    "if(temp==sum)\n",
    "    {print(\"yes,it is the armstrong \")\n",
    "    } else(\"no,it isnt armstrong number\")\n",
    "    "
   ]
  },
  {
   "cell_type": "code",
   "execution_count": 93,
   "id": "f7a1f798",
   "metadata": {},
   "outputs": [
    {
     "name": "stdout",
     "output_type": "stream",
     "text": [
      "[1] 9\n"
     ]
    }
   ],
   "source": [
    "num=153\n",
    "sum=0\n",
    "temp=num\n",
    "while(num>0)\n",
    "    {digit=num%%10\n",
    "    num=floor(num/10)\n",
    "     sum=sum+(digit)\n",
    "    }\n",
    "print(sum)\n",
    "\n",
    "    "
   ]
  },
  {
   "cell_type": "code",
   "execution_count": 98,
   "id": "4a8adfd2",
   "metadata": {},
   "outputs": [
    {
     "name": "stdout",
     "output_type": "stream",
     "text": [
      "[1] 158\n",
      "[1] \"it is not\"\n"
     ]
    }
   ],
   "source": [
    "num=851\n",
    "rev=0\n",
    "temp=num\n",
    "while(num>0)\n",
    "    {digit=num%%10\n",
    "    num=floor(num/10)\n",
    "    rev=rev*10+(digit)\n",
    "    }\n",
    "print(rev)\n",
    "if(temp==rev){print(\"it is a palindrome\")}else{print(\"it is not\")}\n",
    "    "
   ]
  },
  {
   "cell_type": "code",
   "execution_count": null,
   "id": "11ac12b1",
   "metadata": {},
   "outputs": [],
   "source": []
  }
 ],
 "metadata": {
  "kernelspec": {
   "display_name": "R",
   "language": "R",
   "name": "ir"
  },
  "language_info": {
   "codemirror_mode": "r",
   "file_extension": ".r",
   "mimetype": "text/x-r-source",
   "name": "R",
   "pygments_lexer": "r",
   "version": "3.6.1"
  }
 },
 "nbformat": 4,
 "nbformat_minor": 5
}
