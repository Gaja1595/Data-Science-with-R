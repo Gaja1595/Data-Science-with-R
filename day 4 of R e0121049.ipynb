{
 "cells": [
  {
   "cell_type": "code",
   "execution_count": 1,
   "id": "d7a92c2f",
   "metadata": {},
   "outputs": [
    {
     "name": "stdout",
     "output_type": "stream",
     "text": [
      "[1] 1\n",
      "[1] 2\n",
      "[1] 3\n",
      "[1] 4\n",
      "[1] 5\n"
     ]
    }
   ],
   "source": [
    "res=1\n",
    "i=1\n",
    "repeat\n",
    "    {print(res)\n",
    "    i=i+1\n",
    "    res=res+1\n",
    "if(i>5)\n",
    "    {break}}"
   ]
  },
  {
   "cell_type": "code",
   "execution_count": 2,
   "id": "3b4a427b",
   "metadata": {},
   "outputs": [
    {
     "name": "stdout",
     "output_type": "stream",
     "text": [
      "case number:3\n"
     ]
    },
    {
     "data": {
      "text/html": [
       "'mul'"
      ],
      "text/latex": [
       "'mul'"
      ],
      "text/markdown": [
       "'mul'"
      ],
      "text/plain": [
       "[1] \"mul\""
      ]
     },
     "metadata": {},
     "output_type": "display_data"
    }
   ],
   "source": [
    "case=as.integer(readline(\"case number:\"))\n",
    "switch(case,\"add\",\"sub\",\"mul\")"
   ]
  },
  {
   "cell_type": "code",
   "execution_count": 3,
   "id": "194da76a",
   "metadata": {},
   "outputs": [
    {
     "data": {
      "text/html": [
       "'red'"
      ],
      "text/latex": [
       "'red'"
      ],
      "text/markdown": [
       "'red'"
      ],
      "text/plain": [
       "[1] \"red\""
      ]
     },
     "metadata": {},
     "output_type": "display_data"
    }
   ],
   "source": [
    "switch(\"color\",name=\"gaja\",age=18,dept=\"cse\",color=\"red\")"
   ]
  },
  {
   "cell_type": "markdown",
   "id": "e1bb3c0a",
   "metadata": {},
   "source": [
    "### fun_name=function(parameter1,...)\n",
    "   ### {statement}\n",
    "### fun_name(arg1,...)"
   ]
  },
  {
   "cell_type": "code",
   "execution_count": 8,
   "id": "d283db1c",
   "metadata": {},
   "outputs": [
    {
     "data": {
      "text/html": [
       "'hi gaja'"
      ],
      "text/latex": [
       "'hi gaja'"
      ],
      "text/markdown": [
       "'hi gaja'"
      ],
      "text/plain": [
       "[1] \"hi gaja\""
      ]
     },
     "metadata": {},
     "output_type": "display_data"
    }
   ],
   "source": [
    "\n",
    "a=function(name)\n",
    "    {paste(\"hi\",name)}\n",
    "a(\"gaja\")"
   ]
  },
  {
   "cell_type": "markdown",
   "id": "2fcc60ec",
   "metadata": {},
   "source": []
  },
  {
   "cell_type": "code",
   "execution_count": 9,
   "id": "d5cc8a90",
   "metadata": {},
   "outputs": [
    {
     "name": "stdout",
     "output_type": "stream",
     "text": [
      "case number:1\n",
      "a value:2\n",
      "b value:3\n",
      "[1] 5\n"
     ]
    }
   ],
   "source": [
    "case=as.integer(readline(\"case number:\"))\n",
    "a=as.integer(readline(\"a value:\"))\n",
    "b=as.integer(readline(\"b value:\"))\n",
    "add=function(a,b)\n",
    "    {print(a+b)}\n",
    "sub=function(a,b)\n",
    "    {print(a-b)}\n",
    "mul=function(a,b)\n",
    "    {print(a*b)}\n",
    "switch(case,add(a,b),sub(a,b),mul(a,b))"
   ]
  },
  {
   "cell_type": "code",
   "execution_count": 14,
   "id": "d38ce4e0",
   "metadata": {},
   "outputs": [
    {
     "name": "stdout",
     "output_type": "stream",
     "text": [
      "enter do you want to add,sub,mul,div2\n",
      "enter number 100\n",
      "enter number 2\n"
     ]
    },
    {
     "data": {
      "text/html": [
       "98"
      ],
      "text/latex": [
       "98"
      ],
      "text/markdown": [
       "98"
      ],
      "text/plain": [
       "[1] 98"
      ]
     },
     "metadata": {},
     "output_type": "display_data"
    }
   ],
   "source": [
    "outp = as.integer(readline('enter do you want to add,sub,mul,div'))\n",
    "a = as.integer(readline(\"enter number \"))\n",
    "b = as.integer(readline(\"enter number \"))\n",
    "add = a+b\n",
    "mul = a*b\n",
    "div = a/b\n",
    "sub = a-b\n",
    "\n",
    "switch(outp,add,sub,mul,div)"
   ]
  },
  {
   "cell_type": "code",
   "execution_count": 25,
   "id": "423d4ce5",
   "metadata": {},
   "outputs": [
    {
     "name": "stdout",
     "output_type": "stream",
     "text": [
      "[1] \"name is  gaja\"\n",
      "[1] \"age is  18\"\n",
      "[1] \"class is  cse\"\n"
     ]
    }
   ],
   "source": [
    "a=function(name,class,age)\n",
    "    {\n",
    "    print(paste(\"name is \",name))\n",
    "    print(paste(\"age is \",age))\n",
    "   print(paste(\"class is \",class))}\n",
    "\n",
    "a(\"gaja\",\"cse\",18)\n"
   ]
  },
  {
   "cell_type": "code",
   "execution_count": 32,
   "id": "429fc3d9",
   "metadata": {},
   "outputs": [
    {
     "name": "stdout",
     "output_type": "stream",
     "text": [
      "[1] \"name is  gaja\"\n",
      "[1] \"age is  19\"\n",
      "[1] \"class is  cse\"\n"
     ]
    }
   ],
   "source": [
    "a=function(name,class=\"cse\",age=19)                            #default\n",
    "    {\n",
    "    print(paste(\"name is \",name))\n",
    "    print(paste(\"age is \",age))\n",
    "   print(paste(\"class is \",class))}\n",
    "\n",
    "a(\"gaja\")"
   ]
  },
  {
   "cell_type": "code",
   "execution_count": 34,
   "id": "d026742b",
   "metadata": {},
   "outputs": [
    {
     "data": {
      "text/html": [
       "<ol class=list-inline>\n",
       "\t<li>5.28439136407393</li>\n",
       "\t<li>3.46672769295859</li>\n",
       "</ol>\n"
      ],
      "text/latex": [
       "\\begin{enumerate*}\n",
       "\\item 5.28439136407393\n",
       "\\item 3.46672769295859\n",
       "\\end{enumerate*}\n"
      ],
      "text/markdown": [
       "1. 5.28439136407393\n",
       "2. 3.46672769295859\n",
       "\n",
       "\n"
      ],
      "text/plain": [
       "[1] 5.284391 3.466728"
      ]
     },
     "metadata": {},
     "output_type": "display_data"
    }
   ],
   "source": [
    "rnorm(2,mean=5,sd=2)"
   ]
  },
  {
   "cell_type": "raw",
   "id": "c3d009fd",
   "metadata": {},
   "source": [
    "runif(10)"
   ]
  },
  {
   "cell_type": "code",
   "execution_count": 40,
   "id": "c764822d",
   "metadata": {},
   "outputs": [
    {
     "data": {
      "text/html": [
       "<ol class=list-inline>\n",
       "\t<li>0.103360763052478</li>\n",
       "\t<li>0.294675304787233</li>\n",
       "\t<li>0.87961527495645</li>\n",
       "\t<li>0.856061388272792</li>\n",
       "\t<li>0.226239456795156</li>\n",
       "\t<li>0.713712767930701</li>\n",
       "\t<li>0.247519394848496</li>\n",
       "\t<li>0.721768727758899</li>\n",
       "\t<li>0.511873590759933</li>\n",
       "\t<li>0.545951712410897</li>\n",
       "</ol>\n"
      ],
      "text/latex": [
       "\\begin{enumerate*}\n",
       "\\item 0.103360763052478\n",
       "\\item 0.294675304787233\n",
       "\\item 0.87961527495645\n",
       "\\item 0.856061388272792\n",
       "\\item 0.226239456795156\n",
       "\\item 0.713712767930701\n",
       "\\item 0.247519394848496\n",
       "\\item 0.721768727758899\n",
       "\\item 0.511873590759933\n",
       "\\item 0.545951712410897\n",
       "\\end{enumerate*}\n"
      ],
      "text/markdown": [
       "1. 0.103360763052478\n",
       "2. 0.294675304787233\n",
       "3. 0.87961527495645\n",
       "4. 0.856061388272792\n",
       "5. 0.226239456795156\n",
       "6. 0.713712767930701\n",
       "7. 0.247519394848496\n",
       "8. 0.721768727758899\n",
       "9. 0.511873590759933\n",
       "10. 0.545951712410897\n",
       "\n",
       "\n"
      ],
      "text/plain": [
       " [1] 0.1033608 0.2946753 0.8796153 0.8560614 0.2262395 0.7137128 0.2475194\n",
       " [8] 0.7217687 0.5118736 0.5459517"
      ]
     },
     "metadata": {},
     "output_type": "display_data"
    }
   ],
   "source": [
    "runif(10)"
   ]
  },
  {
   "cell_type": "code",
   "execution_count": 44,
   "id": "22e7b46f",
   "metadata": {},
   "outputs": [
    {
     "data": {
      "text/html": [
       "<ol class=list-inline>\n",
       "\t<li>43.4978538705036</li>\n",
       "\t<li>13.9442333881743</li>\n",
       "\t<li>73.8715616450645</li>\n",
       "</ol>\n"
      ],
      "text/latex": [
       "\\begin{enumerate*}\n",
       "\\item 43.4978538705036\n",
       "\\item 13.9442333881743\n",
       "\\item 73.8715616450645\n",
       "\\end{enumerate*}\n"
      ],
      "text/markdown": [
       "1. 43.4978538705036\n",
       "2. 13.9442333881743\n",
       "3. 73.8715616450645\n",
       "\n",
       "\n"
      ],
      "text/plain": [
       "[1] 43.49785 13.94423 73.87156"
      ]
     },
     "metadata": {},
     "output_type": "display_data"
    }
   ],
   "source": [
    "set.seed(101)\n",
    "runif(3,min=10,max=100)"
   ]
  },
  {
   "cell_type": "code",
   "execution_count": null,
   "id": "d83917ac",
   "metadata": {},
   "outputs": [],
   "source": []
  }
 ],
 "metadata": {
  "kernelspec": {
   "display_name": "R",
   "language": "R",
   "name": "ir"
  },
  "language_info": {
   "codemirror_mode": "r",
   "file_extension": ".r",
   "mimetype": "text/x-r-source",
   "name": "R",
   "pygments_lexer": "r",
   "version": "3.6.1"
  }
 },
 "nbformat": 4,
 "nbformat_minor": 5
}
