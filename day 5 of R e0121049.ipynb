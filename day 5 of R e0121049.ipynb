{
 "cells": [
  {
   "cell_type": "code",
   "execution_count": 3,
   "id": "ceff2243",
   "metadata": {},
   "outputs": [
    {
     "data": {
      "text/html": [
       "'list'"
      ],
      "text/latex": [
       "'list'"
      ],
      "text/markdown": [
       "'list'"
      ],
      "text/plain": [
       "[1] \"list\""
      ]
     },
     "metadata": {},
     "output_type": "display_data"
    }
   ],
   "source": [
    "stu1=list(name=\"gaja\",ID=49,term=2,dept=\"cse\",course=c(\"c\",\"py\",\"java\")) #class and obj creation\n",
    "class(stu1)"
   ]
  },
  {
   "cell_type": "code",
   "execution_count": 4,
   "id": "af87576c",
   "metadata": {},
   "outputs": [
    {
     "data": {
      "text/html": [
       "49"
      ],
      "text/latex": [
       "49"
      ],
      "text/markdown": [
       "49"
      ],
      "text/plain": [
       "[1] 49"
      ]
     },
     "metadata": {},
     "output_type": "display_data"
    },
    {
     "data": {
      "text/html": [
       "2"
      ],
      "text/latex": [
       "2"
      ],
      "text/markdown": [
       "2"
      ],
      "text/plain": [
       "[1] 2"
      ]
     },
     "metadata": {},
     "output_type": "display_data"
    },
    {
     "data": {
      "text/html": [
       "<ol class=list-inline>\n",
       "\t<li>'c'</li>\n",
       "\t<li>'py'</li>\n",
       "\t<li>'java'</li>\n",
       "</ol>\n"
      ],
      "text/latex": [
       "\\begin{enumerate*}\n",
       "\\item 'c'\n",
       "\\item 'py'\n",
       "\\item 'java'\n",
       "\\end{enumerate*}\n"
      ],
      "text/markdown": [
       "1. 'c'\n",
       "2. 'py'\n",
       "3. 'java'\n",
       "\n",
       "\n"
      ],
      "text/plain": [
       "[1] \"c\"    \"py\"   \"java\""
      ]
     },
     "metadata": {},
     "output_type": "display_data"
    }
   ],
   "source": [
    "stu1$ID\n",
    "stu1$term\n",
    "stu1$course"
   ]
  },
  {
   "cell_type": "code",
   "execution_count": 5,
   "id": "97123cb5",
   "metadata": {},
   "outputs": [
    {
     "ename": "ERROR",
     "evalue": "Error in a + 5: non-numeric argument to binary operator\n",
     "output_type": "error",
     "traceback": [
      "Error in a + 5: non-numeric argument to binary operator\nTraceback:\n",
      "1. display(\"s\")",
      "2. show(b)   # at line 7 of file <text>"
     ]
    }
   ],
   "source": [
    "show=function(a)\n",
    "    {\n",
    "    a+5\n",
    "    }\n",
    "    display=function(b)\n",
    "    {\n",
    "        show(b)\n",
    "    }\n",
    "    display(\"s\")\n",
    "    traceback()"
   ]
  },
  {
   "cell_type": "code",
   "execution_count": 6,
   "id": "4117b43f",
   "metadata": {},
   "outputs": [],
   "source": [
    "words=c(\"python\",\"java\",\"Python\",\"C\")"
   ]
  },
  {
   "cell_type": "code",
   "execution_count": 7,
   "id": "ebeb88c6",
   "metadata": {},
   "outputs": [
    {
     "data": {
      "text/html": [
       "<ol class=list-inline>\n",
       "\t<li>TRUE</li>\n",
       "\t<li>FALSE</li>\n",
       "\t<li>TRUE</li>\n",
       "\t<li>FALSE</li>\n",
       "</ol>\n"
      ],
      "text/latex": [
       "\\begin{enumerate*}\n",
       "\\item TRUE\n",
       "\\item FALSE\n",
       "\\item TRUE\n",
       "\\item FALSE\n",
       "\\end{enumerate*}\n"
      ],
      "text/markdown": [
       "1. TRUE\n",
       "2. FALSE\n",
       "3. TRUE\n",
       "4. FALSE\n",
       "\n",
       "\n"
      ],
      "text/plain": [
       "[1]  TRUE FALSE  TRUE FALSE"
      ]
     },
     "metadata": {},
     "output_type": "display_data"
    }
   ],
   "source": [
    "grepl(pattern=\"python\",x=words,ignore.case=TRUE)"
   ]
  },
  {
   "cell_type": "code",
   "execution_count": 8,
   "id": "16d6a690",
   "metadata": {},
   "outputs": [
    {
     "data": {
      "text/html": [
       "<ol class=list-inline>\n",
       "\t<li>TRUE</li>\n",
       "\t<li>FALSE</li>\n",
       "\t<li>FALSE</li>\n",
       "\t<li>FALSE</li>\n",
       "</ol>\n"
      ],
      "text/latex": [
       "\\begin{enumerate*}\n",
       "\\item TRUE\n",
       "\\item FALSE\n",
       "\\item FALSE\n",
       "\\item FALSE\n",
       "\\end{enumerate*}\n"
      ],
      "text/markdown": [
       "1. TRUE\n",
       "2. FALSE\n",
       "3. FALSE\n",
       "4. FALSE\n",
       "\n",
       "\n"
      ],
      "text/plain": [
       "[1]  TRUE FALSE FALSE FALSE"
      ]
     },
     "metadata": {},
     "output_type": "display_data"
    }
   ],
   "source": [
    "grepl(pattern=\"python\",x=words)"
   ]
  },
  {
   "cell_type": "code",
   "execution_count": 9,
   "id": "177a7cbc",
   "metadata": {},
   "outputs": [
    {
     "data": {
      "text/html": [
       "<ol class=list-inline>\n",
       "\t<li>1</li>\n",
       "\t<li>3</li>\n",
       "</ol>\n"
      ],
      "text/latex": [
       "\\begin{enumerate*}\n",
       "\\item 1\n",
       "\\item 3\n",
       "\\end{enumerate*}\n"
      ],
      "text/markdown": [
       "1. 1\n",
       "2. 3\n",
       "\n",
       "\n"
      ],
      "text/plain": [
       "[1] 1 3"
      ]
     },
     "metadata": {},
     "output_type": "display_data"
    }
   ],
   "source": [
    "grep(pattern=\"python\",x=words,ignore.case=TRUE)"
   ]
  },
  {
   "cell_type": "code",
   "execution_count": 10,
   "id": "f61e63b9",
   "metadata": {},
   "outputs": [
    {
     "data": {
      "text/html": [
       "<ol class=list-inline>\n",
       "\t<li>'python'</li>\n",
       "\t<li>'Python'</li>\n",
       "</ol>\n"
      ],
      "text/latex": [
       "\\begin{enumerate*}\n",
       "\\item 'python'\n",
       "\\item 'Python'\n",
       "\\end{enumerate*}\n"
      ],
      "text/markdown": [
       "1. 'python'\n",
       "2. 'Python'\n",
       "\n",
       "\n"
      ],
      "text/plain": [
       "[1] \"python\" \"Python\""
      ]
     },
     "metadata": {},
     "output_type": "display_data"
    }
   ],
   "source": [
    "grep(pattern=\"python\",x=words,ignore.case=TRUE,value= TRUE)"
   ]
  },
  {
   "cell_type": "code",
   "execution_count": 11,
   "id": "8d053a7d",
   "metadata": {},
   "outputs": [
    {
     "name": "stderr",
     "output_type": "stream",
     "text": [
      "Warning message:\n",
      "\"unable to access index for repository https://cran.r-project.org/src/contrib:\n",
      "  cannot open URL 'https://cran.r-project.org/src/contrib/PACKAGES'\"Warning message:\n",
      "\"package 'stringr' is not available (for R version 3.6.1)\"Warning message:\n",
      "\"unable to access index for repository https://cran.r-project.org/bin/windows/contrib/3.6:\n",
      "  cannot open URL 'https://cran.r-project.org/bin/windows/contrib/3.6/PACKAGES'\"\n",
      "Attaching package: 'stringr'\n",
      "\n",
      "The following object is masked _by_ '.GlobalEnv':\n",
      "\n",
      "    words\n",
      "\n"
     ]
    },
    {
     "data": {
      "text/html": [
       "<ol>\n",
       "\t<li>'7639356573'</li>\n",
       "</ol>\n"
      ],
      "text/latex": [
       "\\begin{enumerate}\n",
       "\\item '7639356573'\n",
       "\\end{enumerate}\n"
      ],
      "text/markdown": [
       "1. '7639356573'\n",
       "\n",
       "\n"
      ],
      "text/plain": [
       "[[1]]\n",
       "[1] \"7639356573\"\n"
      ]
     },
     "metadata": {},
     "output_type": "display_data"
    }
   ],
   "source": [
    "install.packages(\"stringr\")\n",
    "library(stringr)\n",
    "x=c(\"hi my name is what my name is who my name is slim shady,number is 7639356573\")\n",
    "str_extract_all(x,\"[6-9]{1}[0-9]{9}\")"
   ]
  },
  {
   "cell_type": "code",
   "execution_count": 12,
   "id": "68e03407",
   "metadata": {},
   "outputs": [
    {
     "data": {
      "text/html": [
       "<ol>\n",
       "\t<li>'13-08-2003'</li>\n",
       "</ol>\n"
      ],
      "text/latex": [
       "\\begin{enumerate}\n",
       "\\item '13-08-2003'\n",
       "\\end{enumerate}\n"
      ],
      "text/markdown": [
       "1. '13-08-2003'\n",
       "\n",
       "\n"
      ],
      "text/plain": [
       "[[1]]\n",
       "[1] \"13-08-2003\"\n"
      ]
     },
     "metadata": {},
     "output_type": "display_data"
    }
   ],
   "source": [
    "x=c(\"hi my name is what my name is who my name is slim shady,number is 7639356573 my dob is 13-08-2003 \")\n",
    "str_extract_all(x,\"[:digit:]{2}-[:digit:]{2}-[:digit:]{4}\")"
   ]
  },
  {
   "cell_type": "code",
   "execution_count": 13,
   "id": "caae22fb",
   "metadata": {},
   "outputs": [
    {
     "data": {
      "text/html": [
       "<ol>\n",
       "\t<li>'7639356573'</li>\n",
       "</ol>\n"
      ],
      "text/latex": [
       "\\begin{enumerate}\n",
       "\\item '7639356573'\n",
       "\\end{enumerate}\n"
      ],
      "text/markdown": [
       "1. '7639356573'\n",
       "\n",
       "\n"
      ],
      "text/plain": [
       "[[1]]\n",
       "[1] \"7639356573\"\n"
      ]
     },
     "metadata": {},
     "output_type": "display_data"
    }
   ],
   "source": [
    "\n",
    "x=c(\"hi my name is what my name is who my name is slim shady,number is 7639356573\")\n",
    "str_extract_all(x,\"[6-9]{1}[0-9]{9}\")"
   ]
  },
  {
   "cell_type": "code",
   "execution_count": 14,
   "id": "4f5bcc93",
   "metadata": {},
   "outputs": [],
   "source": [
    "#//d is meta character for digit\n",
    "#//w is meta character for word"
   ]
  },
  {
   "cell_type": "code",
   "execution_count": 15,
   "id": "8d22a002",
   "metadata": {},
   "outputs": [
    {
     "data": {
      "text/html": [
       "<ol>\n",
       "\t<li></li>\n",
       "</ol>\n"
      ],
      "text/latex": [
       "\\begin{enumerate}\n",
       "\\item \n",
       "\\end{enumerate}\n"
      ],
      "text/markdown": [
       "1. \n",
       "\n",
       "\n"
      ],
      "text/plain": [
       "[[1]]\n",
       "character(0)\n"
      ]
     },
     "metadata": {},
     "output_type": "display_data"
    }
   ],
   "source": [
    "\n",
    "x=c(\"hi my name is what my name is who my name is slim shady,number is 7639356573 im gaja@gmail.com\")\n",
    "str_extract_all(x,\"[//w]+@[//w]+.[//w]\")"
   ]
  },
  {
   "cell_type": "code",
   "execution_count": 16,
   "id": "84fa43ab",
   "metadata": {},
   "outputs": [
    {
     "data": {
      "text/html": [
       "<ol>\n",
       "\t<li>'12 abc'</li>\n",
       "</ol>\n"
      ],
      "text/latex": [
       "\\begin{enumerate}\n",
       "\\item '12 abc'\n",
       "\\end{enumerate}\n"
      ],
      "text/markdown": [
       "1. '12 abc'\n",
       "\n",
       "\n"
      ],
      "text/plain": [
       "[[1]]\n",
       "[1] \"12 abc\"\n"
      ]
     },
     "metadata": {},
     "output_type": "display_data"
    }
   ],
   "source": [
    "#write r code to print first 2 digit after typing numbers   12abc\n",
    "\n",
    "x=c(\"hi 12 abc my name is what my name is who my name is slim shady,number is 7639356573 im gaja@gmail.com\")\n",
    "str_extract_all(x,\"\\\\b\\\\d{2}\\\\b\\\\s[\\\\w]+\")"
   ]
  },
  {
   "cell_type": "code",
   "execution_count": 17,
   "id": "51f43fbc",
   "metadata": {},
   "outputs": [
    {
     "data": {
      "text/html": [
       "<ol>\n",
       "\t<li>'clue'</li>\n",
       "</ol>\n"
      ],
      "text/latex": [
       "\\begin{enumerate}\n",
       "\\item 'clue'\n",
       "\\end{enumerate}\n"
      ],
      "text/markdown": [
       "1. 'clue'\n",
       "\n",
       "\n"
      ],
      "text/plain": [
       "[[1]]\n",
       "[1] \"clue\"\n"
      ]
     },
     "metadata": {},
     "output_type": "display_data"
    }
   ],
   "source": [
    "x=c(\"hi 12 abc my name is what my name is who my name is slim shady,number this is a clue is 7639356573 im gaja@gmail.com\")\n",
    "str_extract_all(x,\"c[\\\\w]+e\")"
   ]
  },
  {
   "cell_type": "code",
   "execution_count": 18,
   "id": "1683858a",
   "metadata": {},
   "outputs": [
    {
     "data": {
      "text/html": [
       "<span style=white-space:pre-wrap>'R lang is  a very goood lang taught by a good teacher-R'</span>"
      ],
      "text/latex": [
       "'R lang is  a very goood lang taught by a good teacher-R'"
      ],
      "text/markdown": [
       "<span style=white-space:pre-wrap>'R lang is  a very goood lang taught by a good teacher-R'</span>"
      ],
      "text/plain": [
       "[1] \"R lang is  a very goood lang taught by a good teacher-R\""
      ]
     },
     "metadata": {},
     "output_type": "display_data"
    }
   ],
   "source": [
    "df=\"R is  a very goood lang taught by a good teacher-R\"\n",
    "    \n",
    "sub(\"R\",\"R lang\",df)                   #only first position"
   ]
  },
  {
   "cell_type": "code",
   "execution_count": 19,
   "id": "0350e33f",
   "metadata": {},
   "outputs": [
    {
     "data": {
      "text/html": [
       "<span style=white-space:pre-wrap>'R lang is  a very goood lang taught by a good teacher-R lang'</span>"
      ],
      "text/latex": [
       "'R lang is  a very goood lang taught by a good teacher-R lang'"
      ],
      "text/markdown": [
       "<span style=white-space:pre-wrap>'R lang is  a very goood lang taught by a good teacher-R lang'</span>"
      ],
      "text/plain": [
       "[1] \"R lang is  a very goood lang taught by a good teacher-R lang\""
      ]
     },
     "metadata": {},
     "output_type": "display_data"
    }
   ],
   "source": [
    "gsub(\"R\",\"R lang\",df)            #all positions"
   ]
  },
  {
   "cell_type": "code",
   "execution_count": 20,
   "id": "14e7e9b5",
   "metadata": {},
   "outputs": [
    {
     "data": {
      "text/html": [
       "<ol class=list-inline>\n",
       "\t<li>'A'</li>\n",
       "\t<li>'ABC'</li>\n",
       "\t<li>'umbrella'</li>\n",
       "</ol>\n"
      ],
      "text/latex": [
       "\\begin{enumerate*}\n",
       "\\item 'A'\n",
       "\\item 'ABC'\n",
       "\\item 'umbrella'\n",
       "\\end{enumerate*}\n"
      ],
      "text/markdown": [
       "1. 'A'\n",
       "2. 'ABC'\n",
       "3. 'umbrella'\n",
       "\n",
       "\n"
      ],
      "text/plain": [
       "[1] \"A\"        \"ABC\"      \"umbrella\""
      ]
     },
     "metadata": {},
     "output_type": "display_data"
    }
   ],
   "source": [
    "s=c(\"A\",\"ABC\",\"xyz\",\"umbrella\")\n",
    "grep(pattern=\"[aeiouAEIOU]\",s,value=TRUE)"
   ]
  },
  {
   "cell_type": "code",
   "execution_count": null,
   "id": "11a0b4bb",
   "metadata": {},
   "outputs": [],
   "source": []
  }
 ],
 "metadata": {
  "kernelspec": {
   "display_name": "R",
   "language": "R",
   "name": "ir"
  },
  "language_info": {
   "codemirror_mode": "r",
   "file_extension": ".r",
   "mimetype": "text/x-r-source",
   "name": "R",
   "pygments_lexer": "r",
   "version": "3.6.1"
  }
 },
 "nbformat": 4,
 "nbformat_minor": 5
}
