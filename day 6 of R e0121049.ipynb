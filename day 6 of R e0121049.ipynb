{
 "cells": [
  {
   "cell_type": "code",
   "execution_count": null,
   "id": "5aeaf4d0",
   "metadata": {},
   "outputs": [],
   "source": [
    "install.packages(\"xlsx\")"
   ]
  },
  {
   "cell_type": "code",
   "execution_count": null,
   "id": "b894026f",
   "metadata": {},
   "outputs": [],
   "source": [
    "library(xlsx)"
   ]
  },
  {
   "cell_type": "code",
   "execution_count": null,
   "id": "99b7dbb1",
   "metadata": {},
   "outputs": [],
   "source": [
    "df=read.xlsx(\"Sample-Sales-Data.xlsx\",sheetIndex=1)"
   ]
  },
  {
   "cell_type": "code",
   "execution_count": null,
   "id": "93f0fd46",
   "metadata": {},
   "outputs": [],
   "source": [
    "df=read.xlsx(\"Sample-Sales-Data.xlsx\",sheetName=\"new_sample\")"
   ]
  },
  {
   "cell_type": "code",
   "execution_count": null,
   "id": "02841a09",
   "metadata": {},
   "outputs": [],
   "source": []
  }
 ],
 "metadata": {
  "kernelspec": {
   "display_name": "R",
   "language": "R",
   "name": "ir"
  },
  "language_info": {
   "codemirror_mode": "r",
   "file_extension": ".r",
   "mimetype": "text/x-r-source",
   "name": "R",
   "pygments_lexer": "r",
   "version": "3.6.1"
  }
 },
 "nbformat": 4,
 "nbformat_minor": 5
}
