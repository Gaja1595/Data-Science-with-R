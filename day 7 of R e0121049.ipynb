{
 "cells": [
  {
   "cell_type": "code",
   "execution_count": 3,
   "id": "ec0c4b52",
   "metadata": {},
   "outputs": [
    {
     "name": "stdout",
     "output_type": "stream",
     "text": [
      "enter ur N for sum of N natural numbers:4\n",
      "[1] 10\n"
     ]
    }
   ],
   "source": [
    "#sum of N natural numbers\n",
    "sum=0\n",
    "n=as.integer(readline(\"enter ur N for sum of N natural numbers:\"))\n",
    "for(i in seq(n))\n",
    "    {sum=sum+i\n",
    "     \n",
    "    }\n",
    "    print(sum)"
   ]
  },
  {
   "cell_type": "code",
   "execution_count": 5,
   "id": "7322cd7c",
   "metadata": {},
   "outputs": [
    {
     "name": "stdout",
     "output_type": "stream",
     "text": [
      "what is ur number for factorial4\n",
      "[1] 24\n"
     ]
    }
   ],
   "source": [
    "#factorial of given number 3!=1*2*3\n",
    "factorial=1\n",
    "f=as.integer(readline(\"what is ur number for factorial\"))\n",
    "\n",
    "for(i in seq(f))\n",
    "    {factorial=factorial*i\n",
    "    }\n",
    "print(factorial)"
   ]
  },
  {
   "cell_type": "code",
   "execution_count": 2,
   "id": "7cfede2e",
   "metadata": {},
   "outputs": [
    {
     "name": "stdout",
     "output_type": "stream",
     "text": [
      "what is ur courseai\n",
      "what is ur namegaja\n",
      "what is ur dept\n",
      "what is ur id45\n",
      "[1] \"ai\"\n",
      "[1] \"gaja\"\n",
      "[1] \"data sci\"\n",
      "[1] \"45\"\n"
     ]
    }
   ],
   "source": [
    "#create elect code form get id name dept sub name ,if sub is empty enter data sci course (use if else)\n",
    "elec=function(){\n",
    "    c=(readline(\"what is ur course\"))\n",
    "    name=(readline(\"what is ur name\"))\n",
    "    dept=(readline(\"what is ur dept\"))\n",
    "    id=(readline(\"what is ur id\"))\n",
    "    \n",
    "    if(dept==\"\")\n",
    "    {dept=\"data sci\"}\n",
    "    \n",
    "    \n",
    "    print(c)\n",
    "    print(name)\n",
    "    print(dept)\n",
    "    print(id)\n",
    "        \n",
    "}\n",
    "elec()"
   ]
  },
  {
   "cell_type": "code",
   "execution_count": 3,
   "id": "9a9bf028",
   "metadata": {},
   "outputs": [],
   "source": [
    "library(stringr)"
   ]
  },
  {
   "cell_type": "code",
   "execution_count": 9,
   "id": "6c39ae78",
   "metadata": {},
   "outputs": [
    {
     "data": {
      "text/html": [
       "<ol>\n",
       "\t<li></li>\n",
       "</ol>\n"
      ],
      "text/latex": [
       "\\begin{enumerate}\n",
       "\\item \n",
       "\\end{enumerate}\n"
      ],
      "text/markdown": [
       "1. \n",
       "\n",
       "\n"
      ],
      "text/plain": [
       "[[1]]\n",
       "character(0)\n"
      ]
     },
     "metadata": {},
     "output_type": "display_data"
    }
   ],
   "source": [
    "x=c(\" 4456 2345 3997 4516 hi 12 abc my name is what my name is who my name is slim shady,number is 7639356573 im gaja@gmail.com\")\n",
    "str_extract_all(x,\"\\\\d{4}\\\\s\\\\d{4}\\\\s\\\\d{4}\\\\s\\\\d{2}[d{2}[1-9]+\")\n"
   ]
  },
  {
   "cell_type": "code",
   "execution_count": 10,
   "id": "0f293dc8",
   "metadata": {},
   "outputs": [],
   "source": [
    "df=read.csv(\"employee.csv\")"
   ]
  },
  {
   "cell_type": "code",
   "execution_count": 14,
   "id": "7bf23563",
   "metadata": {},
   "outputs": [
    {
     "data": {
      "text/html": [
       "<table>\n",
       "<thead><tr><th scope=col>EMPLOYEE_ID</th><th scope=col>FIRST_NAME</th><th scope=col>LAST_NAME</th><th scope=col>EMAIL</th><th scope=col>PHONE_NUMBER</th><th scope=col>HIRE_DATE</th><th scope=col>JOB_ID</th><th scope=col>SALARY</th><th scope=col>MANAGER_ID</th><th scope=col>DEPARTMENT_ID</th></tr></thead>\n",
       "<tbody>\n",
       "\t<tr><td>198         </td><td>Donald      </td><td>OConnell    </td><td>DOCONNEL    </td><td>650.507.9833</td><td>21-Jun-07   </td><td>SH_CLERK    </td><td> 2600       </td><td>124         </td><td>50          </td></tr>\n",
       "\t<tr><td>199         </td><td>Douglas     </td><td>Grant       </td><td>DGRANT      </td><td>650.507.9844</td><td>13-Jan-08   </td><td>SH_CLERK    </td><td> 2600       </td><td>124         </td><td>50          </td></tr>\n",
       "\t<tr><td>200         </td><td>Jennifer    </td><td>Whalen      </td><td>JWHALEN     </td><td>515.123.4444</td><td>17-Sep-03   </td><td>AD_ASST     </td><td> 4400       </td><td>101         </td><td>10          </td></tr>\n",
       "\t<tr><td>201         </td><td>Michael     </td><td>Hartstein   </td><td>MHARTSTE    </td><td>515.123.5555</td><td>17-Feb-04   </td><td>MK_MAN      </td><td>13000       </td><td>100         </td><td>20          </td></tr>\n",
       "\t<tr><td>202         </td><td>Pat         </td><td>Fay         </td><td>PFAY        </td><td>603.123.6666</td><td>17-Aug-05   </td><td>MK_REP      </td><td> 6000       </td><td>201         </td><td>20          </td></tr>\n",
       "</tbody>\n",
       "</table>\n"
      ],
      "text/latex": [
       "\\begin{tabular}{r|llllllllll}\n",
       " EMPLOYEE\\_ID & FIRST\\_NAME & LAST\\_NAME & EMAIL & PHONE\\_NUMBER & HIRE\\_DATE & JOB\\_ID & SALARY & MANAGER\\_ID & DEPARTMENT\\_ID\\\\\n",
       "\\hline\n",
       "\t 198          & Donald       & OConnell     & DOCONNEL     & 650.507.9833 & 21-Jun-07    & SH\\_CLERK   &  2600        & 124          & 50          \\\\\n",
       "\t 199          & Douglas      & Grant        & DGRANT       & 650.507.9844 & 13-Jan-08    & SH\\_CLERK   &  2600        & 124          & 50          \\\\\n",
       "\t 200          & Jennifer     & Whalen       & JWHALEN      & 515.123.4444 & 17-Sep-03    & AD\\_ASST    &  4400        & 101          & 10          \\\\\n",
       "\t 201          & Michael      & Hartstein    & MHARTSTE     & 515.123.5555 & 17-Feb-04    & MK\\_MAN     & 13000        & 100          & 20          \\\\\n",
       "\t 202          & Pat          & Fay          & PFAY         & 603.123.6666 & 17-Aug-05    & MK\\_REP     &  6000        & 201          & 20          \\\\\n",
       "\\end{tabular}\n"
      ],
      "text/markdown": [
       "\n",
       "| EMPLOYEE_ID | FIRST_NAME | LAST_NAME | EMAIL | PHONE_NUMBER | HIRE_DATE | JOB_ID | SALARY | MANAGER_ID | DEPARTMENT_ID |\n",
       "|---|---|---|---|---|---|---|---|---|---|\n",
       "| 198          | Donald       | OConnell     | DOCONNEL     | 650.507.9833 | 21-Jun-07    | SH_CLERK     |  2600        | 124          | 50           |\n",
       "| 199          | Douglas      | Grant        | DGRANT       | 650.507.9844 | 13-Jan-08    | SH_CLERK     |  2600        | 124          | 50           |\n",
       "| 200          | Jennifer     | Whalen       | JWHALEN      | 515.123.4444 | 17-Sep-03    | AD_ASST      |  4400        | 101          | 10           |\n",
       "| 201          | Michael      | Hartstein    | MHARTSTE     | 515.123.5555 | 17-Feb-04    | MK_MAN       | 13000        | 100          | 20           |\n",
       "| 202          | Pat          | Fay          | PFAY         | 603.123.6666 | 17-Aug-05    | MK_REP       |  6000        | 201          | 20           |\n",
       "\n"
      ],
      "text/plain": [
       "  EMPLOYEE_ID FIRST_NAME LAST_NAME EMAIL    PHONE_NUMBER HIRE_DATE JOB_ID  \n",
       "1 198         Donald     OConnell  DOCONNEL 650.507.9833 21-Jun-07 SH_CLERK\n",
       "2 199         Douglas    Grant     DGRANT   650.507.9844 13-Jan-08 SH_CLERK\n",
       "3 200         Jennifer   Whalen    JWHALEN  515.123.4444 17-Sep-03 AD_ASST \n",
       "4 201         Michael    Hartstein MHARTSTE 515.123.5555 17-Feb-04 MK_MAN  \n",
       "5 202         Pat        Fay       PFAY     603.123.6666 17-Aug-05 MK_REP  \n",
       "  SALARY MANAGER_ID DEPARTMENT_ID\n",
       "1  2600  124        50           \n",
       "2  2600  124        50           \n",
       "3  4400  101        10           \n",
       "4 13000  100        20           \n",
       "5  6000  201        20           "
      ]
     },
     "metadata": {},
     "output_type": "display_data"
    }
   ],
   "source": [
    "head(df,5)"
   ]
  },
  {
   "cell_type": "code",
   "execution_count": 16,
   "id": "adc7a9e4",
   "metadata": {},
   "outputs": [
    {
     "data": {
      "text/html": [
       "10"
      ],
      "text/latex": [
       "10"
      ],
      "text/markdown": [
       "10"
      ],
      "text/plain": [
       "[1] 10"
      ]
     },
     "metadata": {},
     "output_type": "display_data"
    },
    {
     "data": {
      "text/html": [
       "50"
      ],
      "text/latex": [
       "50"
      ],
      "text/markdown": [
       "50"
      ],
      "text/plain": [
       "[1] 50"
      ]
     },
     "metadata": {},
     "output_type": "display_data"
    }
   ],
   "source": [
    "ncol(df)\n",
    "nrow(df)"
   ]
  },
  {
   "cell_type": "code",
   "execution_count": 17,
   "id": "5d937c54",
   "metadata": {},
   "outputs": [
    {
     "data": {
      "text/html": [
       "<table>\n",
       "<thead><tr><th></th><th scope=col>EMPLOYEE_ID</th><th scope=col>FIRST_NAME</th><th scope=col>LAST_NAME</th><th scope=col>EMAIL</th><th scope=col>PHONE_NUMBER</th><th scope=col>HIRE_DATE</th><th scope=col>JOB_ID</th><th scope=col>SALARY</th><th scope=col>MANAGER_ID</th><th scope=col>DEPARTMENT_ID</th></tr></thead>\n",
       "<tbody>\n",
       "\t<tr><th scope=row>47</th><td>137         </td><td>Renske      </td><td>Ladwig      </td><td>RLADWIG     </td><td>650.121.1234</td><td>14-Jul-03   </td><td>ST_CLERK    </td><td>3600        </td><td>123         </td><td>50          </td></tr>\n",
       "\t<tr><th scope=row>48</th><td>138         </td><td>Stephen     </td><td>Stiles      </td><td>SSTILES     </td><td>650.121.2034</td><td>26-Oct-05   </td><td>ST_CLERK    </td><td>3200        </td><td>123         </td><td>50          </td></tr>\n",
       "\t<tr><th scope=row>49</th><td>139         </td><td>John        </td><td>Seo         </td><td>JSEO        </td><td>650.121.2019</td><td>12-Feb-06   </td><td>ST_CLERK    </td><td>2700        </td><td>123         </td><td>50          </td></tr>\n",
       "\t<tr><th scope=row>50</th><td>140         </td><td>Joshua      </td><td>Patel       </td><td>JPATEL      </td><td>650.121.1834</td><td>06-Apr-06   </td><td>ST_CLERK    </td><td>2500        </td><td>123         </td><td>50          </td></tr>\n",
       "</tbody>\n",
       "</table>\n"
      ],
      "text/latex": [
       "\\begin{tabular}{r|llllllllll}\n",
       "  & EMPLOYEE\\_ID & FIRST\\_NAME & LAST\\_NAME & EMAIL & PHONE\\_NUMBER & HIRE\\_DATE & JOB\\_ID & SALARY & MANAGER\\_ID & DEPARTMENT\\_ID\\\\\n",
       "\\hline\n",
       "\t47 & 137          & Renske       & Ladwig       & RLADWIG      & 650.121.1234 & 14-Jul-03    & ST\\_CLERK   & 3600         & 123          & 50          \\\\\n",
       "\t48 & 138          & Stephen      & Stiles       & SSTILES      & 650.121.2034 & 26-Oct-05    & ST\\_CLERK   & 3200         & 123          & 50          \\\\\n",
       "\t49 & 139          & John         & Seo          & JSEO         & 650.121.2019 & 12-Feb-06    & ST\\_CLERK   & 2700         & 123          & 50          \\\\\n",
       "\t50 & 140          & Joshua       & Patel        & JPATEL       & 650.121.1834 & 06-Apr-06    & ST\\_CLERK   & 2500         & 123          & 50          \\\\\n",
       "\\end{tabular}\n"
      ],
      "text/markdown": [
       "\n",
       "| <!--/--> | EMPLOYEE_ID | FIRST_NAME | LAST_NAME | EMAIL | PHONE_NUMBER | HIRE_DATE | JOB_ID | SALARY | MANAGER_ID | DEPARTMENT_ID |\n",
       "|---|---|---|---|---|---|---|---|---|---|---|\n",
       "| 47 | 137          | Renske       | Ladwig       | RLADWIG      | 650.121.1234 | 14-Jul-03    | ST_CLERK     | 3600         | 123          | 50           |\n",
       "| 48 | 138          | Stephen      | Stiles       | SSTILES      | 650.121.2034 | 26-Oct-05    | ST_CLERK     | 3200         | 123          | 50           |\n",
       "| 49 | 139          | John         | Seo          | JSEO         | 650.121.2019 | 12-Feb-06    | ST_CLERK     | 2700         | 123          | 50           |\n",
       "| 50 | 140          | Joshua       | Patel        | JPATEL       | 650.121.1834 | 06-Apr-06    | ST_CLERK     | 2500         | 123          | 50           |\n",
       "\n"
      ],
      "text/plain": [
       "   EMPLOYEE_ID FIRST_NAME LAST_NAME EMAIL   PHONE_NUMBER HIRE_DATE JOB_ID  \n",
       "47 137         Renske     Ladwig    RLADWIG 650.121.1234 14-Jul-03 ST_CLERK\n",
       "48 138         Stephen    Stiles    SSTILES 650.121.2034 26-Oct-05 ST_CLERK\n",
       "49 139         John       Seo       JSEO    650.121.2019 12-Feb-06 ST_CLERK\n",
       "50 140         Joshua     Patel     JPATEL  650.121.1834 06-Apr-06 ST_CLERK\n",
       "   SALARY MANAGER_ID DEPARTMENT_ID\n",
       "47 3600   123        50           \n",
       "48 3200   123        50           \n",
       "49 2700   123        50           \n",
       "50 2500   123        50           "
      ]
     },
     "metadata": {},
     "output_type": "display_data"
    }
   ],
   "source": [
    "tail(df,4)"
   ]
  },
  {
   "cell_type": "code",
   "execution_count": 19,
   "id": "fb1b7326",
   "metadata": {},
   "outputs": [
    {
     "data": {
      "text/html": [
       "<table>\n",
       "<thead><tr><th></th><th scope=col>EMPLOYEE_ID</th><th scope=col>FIRST_NAME</th><th scope=col>LAST_NAME</th><th scope=col>EMAIL</th><th scope=col>PHONE_NUMBER</th><th scope=col>HIRE_DATE</th><th scope=col>JOB_ID</th><th scope=col>SALARY</th><th scope=col>MANAGER_ID</th><th scope=col>DEPARTMENT_ID</th></tr></thead>\n",
       "<tbody>\n",
       "\t<tr><th scope=row>10</th><td>100         </td><td>Steven      </td><td>King        </td><td>SKING       </td><td>515.123.4567</td><td>17-Jun-03   </td><td>AD_PRES     </td><td>24000       </td><td> -          </td><td>90          </td></tr>\n",
       "</tbody>\n",
       "</table>\n"
      ],
      "text/latex": [
       "\\begin{tabular}{r|llllllllll}\n",
       "  & EMPLOYEE\\_ID & FIRST\\_NAME & LAST\\_NAME & EMAIL & PHONE\\_NUMBER & HIRE\\_DATE & JOB\\_ID & SALARY & MANAGER\\_ID & DEPARTMENT\\_ID\\\\\n",
       "\\hline\n",
       "\t10 & 100          & Steven       & King         & SKING        & 515.123.4567 & 17-Jun-03    & AD\\_PRES    & 24000        &  -           & 90          \\\\\n",
       "\\end{tabular}\n"
      ],
      "text/markdown": [
       "\n",
       "| <!--/--> | EMPLOYEE_ID | FIRST_NAME | LAST_NAME | EMAIL | PHONE_NUMBER | HIRE_DATE | JOB_ID | SALARY | MANAGER_ID | DEPARTMENT_ID |\n",
       "|---|---|---|---|---|---|---|---|---|---|---|\n",
       "| 10 | 100          | Steven       | King         | SKING        | 515.123.4567 | 17-Jun-03    | AD_PRES      | 24000        |  -           | 90           |\n",
       "\n"
      ],
      "text/plain": [
       "   EMPLOYEE_ID FIRST_NAME LAST_NAME EMAIL PHONE_NUMBER HIRE_DATE JOB_ID  SALARY\n",
       "10 100         Steven     King      SKING 515.123.4567 17-Jun-03 AD_PRES 24000 \n",
       "   MANAGER_ID DEPARTMENT_ID\n",
       "10  -         90           "
      ]
     },
     "metadata": {},
     "output_type": "display_data"
    }
   ],
   "source": [
    "a=subset(df,SALARY==max(SALARY))\n",
    "a"
   ]
  },
  {
   "cell_type": "code",
   "execution_count": 20,
   "id": "328dd30b",
   "metadata": {},
   "outputs": [
    {
     "data": {
      "text/plain": [
       "\n",
       "AC_ACCOUNT     AC_MGR    AD_ASST    AD_PRES      AD_VP FI_ACCOUNT     FI_MGR \n",
       "         1          1          1          1          2          5          1 \n",
       "    HR_REP    IT_PROG     MK_MAN     MK_REP     PR_REP   PU_CLERK     PU_MAN \n",
       "         1          5          1          1          1          5          1 \n",
       "  SH_CLERK   ST_CLERK     ST_MAN \n",
       "         2         16          5 "
      ]
     },
     "metadata": {},
     "output_type": "display_data"
    }
   ],
   "source": [
    "table(df$JOB_ID)"
   ]
  },
  {
   "cell_type": "code",
   "execution_count": 22,
   "id": "6892af8e",
   "metadata": {},
   "outputs": [
    {
     "data": {
      "text/html": [
       "<table>\n",
       "<thead><tr><th scope=col>EMPLOYEE_ID</th><th scope=col>FIRST_NAME</th><th scope=col>LAST_NAME</th><th scope=col>EMAIL</th><th scope=col>PHONE_NUMBER</th><th scope=col>HIRE_DATE</th><th scope=col>JOB_ID</th><th scope=col>SALARY</th><th scope=col>MANAGER_ID</th><th scope=col>DEPARTMENT_ID</th></tr></thead>\n",
       "<tbody>\n",
       "\t<tr><td>198         </td><td>Donald      </td><td>OConnell    </td><td>DOCONNEL    </td><td>650.507.9833</td><td>21-Jun-07   </td><td>SH_CLERK    </td><td>2600        </td><td>124         </td><td>50          </td></tr>\n",
       "\t<tr><td>199         </td><td>Douglas     </td><td>Grant       </td><td>DGRANT      </td><td>650.507.9844</td><td>13-Jan-08   </td><td>SH_CLERK    </td><td>2600        </td><td>124         </td><td>50          </td></tr>\n",
       "</tbody>\n",
       "</table>\n"
      ],
      "text/latex": [
       "\\begin{tabular}{r|llllllllll}\n",
       " EMPLOYEE\\_ID & FIRST\\_NAME & LAST\\_NAME & EMAIL & PHONE\\_NUMBER & HIRE\\_DATE & JOB\\_ID & SALARY & MANAGER\\_ID & DEPARTMENT\\_ID\\\\\n",
       "\\hline\n",
       "\t 198          & Donald       & OConnell     & DOCONNEL     & 650.507.9833 & 21-Jun-07    & SH\\_CLERK   & 2600         & 124          & 50          \\\\\n",
       "\t 199          & Douglas      & Grant        & DGRANT       & 650.507.9844 & 13-Jan-08    & SH\\_CLERK   & 2600         & 124          & 50          \\\\\n",
       "\\end{tabular}\n"
      ],
      "text/markdown": [
       "\n",
       "| EMPLOYEE_ID | FIRST_NAME | LAST_NAME | EMAIL | PHONE_NUMBER | HIRE_DATE | JOB_ID | SALARY | MANAGER_ID | DEPARTMENT_ID |\n",
       "|---|---|---|---|---|---|---|---|---|---|\n",
       "| 198          | Donald       | OConnell     | DOCONNEL     | 650.507.9833 | 21-Jun-07    | SH_CLERK     | 2600         | 124          | 50           |\n",
       "| 199          | Douglas      | Grant        | DGRANT       | 650.507.9844 | 13-Jan-08    | SH_CLERK     | 2600         | 124          | 50           |\n",
       "\n"
      ],
      "text/plain": [
       "  EMPLOYEE_ID FIRST_NAME LAST_NAME EMAIL    PHONE_NUMBER HIRE_DATE JOB_ID  \n",
       "1 198         Donald     OConnell  DOCONNEL 650.507.9833 21-Jun-07 SH_CLERK\n",
       "2 199         Douglas    Grant     DGRANT   650.507.9844 13-Jan-08 SH_CLERK\n",
       "  SALARY MANAGER_ID DEPARTMENT_ID\n",
       "1 2600   124        50           \n",
       "2 2600   124        50           "
      ]
     },
     "metadata": {},
     "output_type": "display_data"
    }
   ],
   "source": [
    "a=subset(df,JOB_ID==\"SH_CLERK\")\n",
    "a\n"
   ]
  },
  {
   "cell_type": "code",
   "execution_count": 25,
   "id": "65717b2c",
   "metadata": {},
   "outputs": [
    {
     "data": {
      "text/html": [
       "<table>\n",
       "<thead><tr><th scope=col>EMPLOYEE_ID</th><th scope=col>FIRST_NAME</th><th scope=col>LAST_NAME</th><th scope=col>EMAIL</th><th scope=col>PHONE_NUMBER</th><th scope=col>HIRE_DATE</th><th scope=col>JOB_ID</th><th scope=col>SALARY</th><th scope=col>MANAGER_ID</th><th scope=col>DEPARTMENT_ID</th></tr></thead>\n",
       "<tbody>\n",
       "\t<tr><td>198         </td><td>Donald      </td><td>OConnell    </td><td>DOCONNEL    </td><td>650.507.9833</td><td>21-Jun-07   </td><td>SH_CLERK    </td><td>2600        </td><td>124         </td><td>50          </td></tr>\n",
       "\t<tr><td>199         </td><td>Douglas     </td><td>Grant       </td><td>DGRANT      </td><td>650.507.9844</td><td>13-Jan-08   </td><td>SH_CLERK    </td><td>2600        </td><td>124         </td><td>50          </td></tr>\n",
       "</tbody>\n",
       "</table>\n"
      ],
      "text/latex": [
       "\\begin{tabular}{r|llllllllll}\n",
       " EMPLOYEE\\_ID & FIRST\\_NAME & LAST\\_NAME & EMAIL & PHONE\\_NUMBER & HIRE\\_DATE & JOB\\_ID & SALARY & MANAGER\\_ID & DEPARTMENT\\_ID\\\\\n",
       "\\hline\n",
       "\t 198          & Donald       & OConnell     & DOCONNEL     & 650.507.9833 & 21-Jun-07    & SH\\_CLERK   & 2600         & 124          & 50          \\\\\n",
       "\t 199          & Douglas      & Grant        & DGRANT       & 650.507.9844 & 13-Jan-08    & SH\\_CLERK   & 2600         & 124          & 50          \\\\\n",
       "\\end{tabular}\n"
      ],
      "text/markdown": [
       "\n",
       "| EMPLOYEE_ID | FIRST_NAME | LAST_NAME | EMAIL | PHONE_NUMBER | HIRE_DATE | JOB_ID | SALARY | MANAGER_ID | DEPARTMENT_ID |\n",
       "|---|---|---|---|---|---|---|---|---|---|\n",
       "| 198          | Donald       | OConnell     | DOCONNEL     | 650.507.9833 | 21-Jun-07    | SH_CLERK     | 2600         | 124          | 50           |\n",
       "| 199          | Douglas      | Grant        | DGRANT       | 650.507.9844 | 13-Jan-08    | SH_CLERK     | 2600         | 124          | 50           |\n",
       "\n"
      ],
      "text/plain": [
       "  EMPLOYEE_ID FIRST_NAME LAST_NAME EMAIL    PHONE_NUMBER HIRE_DATE JOB_ID  \n",
       "1 198         Donald     OConnell  DOCONNEL 650.507.9833 21-Jun-07 SH_CLERK\n",
       "2 199         Douglas    Grant     DGRANT   650.507.9844 13-Jan-08 SH_CLERK\n",
       "  SALARY MANAGER_ID DEPARTMENT_ID\n",
       "1 2600   124        50           \n",
       "2 2600   124        50           "
      ]
     },
     "metadata": {},
     "output_type": "display_data"
    }
   ],
   "source": [
    "a=subset(df,SALARY>500 & JOB_ID==\"SH_CLERK\")\n",
    "a"
   ]
  },
  {
   "cell_type": "code",
   "execution_count": null,
   "id": "4d6ab136",
   "metadata": {},
   "outputs": [],
   "source": []
  },
  {
   "cell_type": "code",
   "execution_count": 29,
   "id": "17a1b6d4",
   "metadata": {},
   "outputs": [
    {
     "name": "stderr",
     "output_type": "stream",
     "text": [
      "Warning message:\n",
      "\"unable to access index for repository https://cran.r-project.org/src/contrib:\n",
      "  cannot open URL 'https://cran.r-project.org/src/contrib/PACKAGES'\"Warning message:\n",
      "\"package 'lubridate' is not available (for R version 3.6.1)\"Warning message:\n",
      "\"unable to access index for repository https://cran.r-project.org/bin/windows/contrib/3.6:\n",
      "  cannot open URL 'https://cran.r-project.org/bin/windows/contrib/3.6/PACKAGES'\""
     ]
    }
   ],
   "source": [
    "install.packages(\"lubridate\")"
   ]
  },
  {
   "cell_type": "markdown",
   "id": "2cf59bcf",
   "metadata": {},
   "source": [
    "### library(\"lubridate\")"
   ]
  },
  {
   "cell_type": "code",
   "execution_count": null,
   "id": "5b50b99b",
   "metadata": {},
   "outputs": [],
   "source": []
  }
 ],
 "metadata": {
  "kernelspec": {
   "display_name": "R",
   "language": "R",
   "name": "ir"
  },
  "language_info": {
   "codemirror_mode": "r",
   "file_extension": ".r",
   "mimetype": "text/x-r-source",
   "name": "R",
   "pygments_lexer": "r",
   "version": "3.6.1"
  }
 },
 "nbformat": 4,
 "nbformat_minor": 5
}
